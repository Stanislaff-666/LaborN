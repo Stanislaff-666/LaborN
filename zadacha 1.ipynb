{
 "cells": [
  {
   "cell_type": "markdown",
   "metadata": {},
   "source": [
    "### Задача 1"
   ]
  },
  {
   "cell_type": "code",
   "execution_count": 1,
   "metadata": {},
   "outputs": [],
   "source": [
    "import numpy"
   ]
  },
  {
   "cell_type": "code",
   "execution_count": 2,
   "metadata": {},
   "outputs": [],
   "source": [
    "def matrixgenerate():\n",
    "    n=int(input())\n",
    "    massiv = numpy.random.random_integers(0, 20, size=(n))\n",
    "    massiv=sorted(massiv, reverse=True)\n",
    "    for i, j in enumerate(massiv):\n",
    "        print(\"massiv[\", i, \"]=\", j)\n",
    "    return massiv"
   ]
  },
  {
   "cell_type": "code",
   "execution_count": 3,
   "metadata": {},
   "outputs": [],
   "source": [
    "def perimetr(massiv):\n",
    "    P=0\n",
    "    \n",
    "    for i in range(len(massiv)-2):\n",
    "        if massiv[i]<massiv[i+1]+massiv[i+2]:\n",
    "            return massiv[i]+massiv[i+1]+massiv[i+2]"
   ]
  },
  {
   "cell_type": "code",
   "execution_count": 4,
   "metadata": {},
   "outputs": [
    {
     "name": "stdout",
     "output_type": "stream",
     "text": [
      "10\n",
      "massiv[ 0 ]= 20\n",
      "massiv[ 1 ]= 17\n",
      "massiv[ 2 ]= 12\n",
      "massiv[ 3 ]= 10\n",
      "massiv[ 4 ]= 7\n",
      "massiv[ 5 ]= 6\n",
      "massiv[ 6 ]= 5\n",
      "massiv[ 7 ]= 5\n",
      "massiv[ 8 ]= 1\n",
      "massiv[ 9 ]= 0\n",
      "49\n"
     ]
    },
    {
     "name": "stderr",
     "output_type": "stream",
     "text": [
      "<ipython-input-2-199a445f327c>:3: DeprecationWarning: This function is deprecated. Please call randint(0, 20 + 1) instead\n",
      "  massiv = numpy.random.random_integers(0, 20, size=(n))\n"
     ]
    }
   ],
   "source": [
    "massiv=matrixgenerate()\n",
    "# leng=int(input())\n",
    "# massiv=[0]*leng\n",
    "# for i in range(len(massiv)):\n",
    "#    massiv[i]=int(input())\n",
    "# sorted(massiv)\n",
    "# for i, j in enumerate(massiv):\n",
    "#    print(\"massiv[\", i, \"]=\", j)\n",
    "P=perimetr(massiv)\n",
    "print(P)"
   ]
  },
  {
   "cell_type": "markdown",
   "metadata": {},
   "source": [
    "### Задача 2"
   ]
  },
  {
   "cell_type": "code",
   "execution_count": 5,
   "metadata": {},
   "outputs": [
    {
     "name": "stdout",
     "output_type": "stream",
     "text": [
      " 971 9714 9714\n",
      " 9999911 91\n",
      " 8 6 40 24 10\n"
     ]
    }
   ],
   "source": [
    "def check(a,b):\n",
    "    one=str(a)+str(b)\n",
    "    two=str(b)+str(a)\n",
    "    if int(one)>int(two):\n",
    "        return True\n",
    "    else:\n",
    "        return False\n",
    "    \n",
    "def shell(massline):\n",
    "    length=len(massline)\n",
    "    l=length\n",
    "    while l>0:\n",
    "        for i in range(length-l):\n",
    "            j=i\n",
    "            while j>=0 and check(massline[j+l], massline[j]):\n",
    "                massline[j], massline[j+l]=massline[j+l], massline[j]\n",
    "                j=j-l\n",
    "        l=int(l/2)\n",
    "    strr=\"\"\n",
    "    for i in range(len(massline)):\n",
    "        strr=strr+\" \"+str(massline[i])\n",
    "    return strr\n",
    "\n",
    "mas1=[9714,9714,971]\n",
    "mas2=[9999911,91]\n",
    "mas3=[8,40,24,6,10]\n",
    "print(shell(mas1))\n",
    "print(shell(mas2))\n",
    "print(shell(mas3))"
   ]
  },
  {
   "cell_type": "markdown",
   "metadata": {},
   "source": [
    "### Задача 3"
   ]
  },
  {
   "cell_type": "code",
   "execution_count": 6,
   "metadata": {},
   "outputs": [],
   "source": [
    "import numpy"
   ]
  },
  {
   "cell_type": "code",
   "execution_count": 7,
   "metadata": {},
   "outputs": [
    {
     "name": "stdout",
     "output_type": "stream",
     "text": [
      "Введите m и n:6 6\n",
      "[[14 17  4  5 15 12]\n",
      " [11  5 11 19  0  4]\n",
      " [ 2 13 17 11 15 14]\n",
      " [13 18 15 15 12 14]\n",
      " [ 9 15 14  2 13 20]\n",
      " [10 10  7 17  9 19]]\n",
      "заменяет  5  на  14\n",
      "заменяет  11  на  17\n",
      "заменяет  0  на  5\n",
      "заменяет  4  на  15\n",
      "заменяет  2  на  11\n",
      "заменяет  13  на  14\n",
      "заменяет  11  на  17\n",
      "заменяет  15  на  19\n",
      "заменяет  14  на  15\n",
      "заменяет  11  на  13\n",
      "заменяет  9  на  11\n",
      "заменяет  15  на  17\n",
      "заменяет  14  на  15\n",
      "заменяет  12  на  17\n",
      "заменяет  15  на  19\n",
      "заменяет  7  на  13\n",
      "заменяет  14  на  18\n",
      "заменяет  13  на  15\n",
      "заменяет  11  на  13\n",
      "заменяет  15  на  17\n",
      "заменяет  13  на  15\n",
      "заменяет  17  на  18\n",
      "заменяет  13  на  15\n",
      "\n",
      "\n",
      "[[ 5 11  4  0  4 12]\n",
      " [ 2 13 11 14  5 15]\n",
      " [ 2  9 14 12 15 14]\n",
      " [ 7 14 11 15 17 19]\n",
      " [ 9 13 17 13 17 20]\n",
      " [10 10 15 18 15 19]]\n"
     ]
    },
    {
     "name": "stderr",
     "output_type": "stream",
     "text": [
      "<ipython-input-7-ec6d2022ab5b>:2: DeprecationWarning: This function is deprecated. Please call randint(0, 20 + 1) instead\n",
      "  massiv = numpy.random.random_integers(0, 20, size=(m, n))\n"
     ]
    }
   ],
   "source": [
    "m, n= map(int, input('Введите m и n:').split(' '))\n",
    "massiv = numpy.random.random_integers(0, 20, size=(m, n))\n",
    "print(massiv)\n",
    "for i in range(0,m):\n",
    "    for j in range(0,n):\n",
    "        l=j\n",
    "        k=i\n",
    "        while k<m and l<n:\n",
    "            if massiv[i][j]>massiv[k][l]:\n",
    "                print (\"заменяет \" , massiv[k][l] ,\" на \" , massiv[i][j] )\n",
    "                massiv[i][j], massiv[k][l]=massiv[k][l], massiv[i][j]\n",
    "            k=k+1\n",
    "            l=l+1\n",
    "print(\"\\n\")\n",
    "print(massiv)"
   ]
  },
  {
   "cell_type": "code",
   "execution_count": null,
   "metadata": {},
   "outputs": [],
   "source": []
  }
 ],
 "metadata": {
  "kernelspec": {
   "display_name": "Python 3",
   "language": "python",
   "name": "python3"
  },
  "language_info": {
   "codemirror_mode": {
    "name": "ipython",
    "version": 3
   },
   "file_extension": ".py",
   "mimetype": "text/x-python",
   "name": "python",
   "nbconvert_exporter": "python",
   "pygments_lexer": "ipython3",
   "version": "3.8.5"
  }
 },
 "nbformat": 4,
 "nbformat_minor": 4
}
