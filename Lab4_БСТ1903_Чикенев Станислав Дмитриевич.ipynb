{
 "cells": [
  {
   "cell_type": "markdown",
   "metadata": {},
   "source": [
    "# Реализация стека"
   ]
  },
  {
   "cell_type": "code",
   "execution_count": 3,
   "metadata": {},
   "outputs": [],
   "source": [
    "class stek:\n",
    "    def __init__(self):\n",
    "        self.steks=list()\n",
    "    def __len__(self):\n",
    "        return len(self.steks)\n",
    "        \n",
    "    # добавление элемента в стек\n",
    "    def add(self, el):\n",
    "        self.steks.append(el)\n",
    "        \n",
    "    #проверка стека на пустоту\n",
    "    def testing_null(self):\n",
    "        return len(self.steks)==0\n",
    "    \n",
    "    #извлечение элемента из стека\n",
    "    def pop(self):\n",
    "        if self.testing_null():\n",
    "            return None\n",
    "        else:\n",
    "            return self.steks.pop()\n",
    "    \n",
    "    def peek(self):\n",
    "        if self.testing_null():\n",
    "            return None\n",
    "        else:\n",
    "            return self.steks[-1]\n",
    "        "
   ]
  },
  {
   "cell_type": "markdown",
   "metadata": {},
   "source": [
    "# Реализация дека"
   ]
  },
  {
   "cell_type": "code",
   "execution_count": 4,
   "metadata": {},
   "outputs": [],
   "source": [
    "class dek:\n",
    "    def __init__(self):\n",
    "        self.deks=list()\n",
    "        \n",
    "    #Нахождение минимального элемента дека\n",
    "   # def minn(self):\n",
    "        \n",
    "    #добавление в конец дека\n",
    "    def add_left(self, el):\n",
    "        self.deks.insert(0, el)\n",
    "        \n",
    "    #добавление в начало дека\n",
    "    def add_rigth(self, el):\n",
    "        self.deks.append(el)\n",
    "        \n",
    "    #проверка дека на пустоту\n",
    "    def testing_null(self):\n",
    "        return len(self.deks)==0\n",
    "    \n",
    "    #извлечение элемента из начала дека\n",
    "    def pop_rigth(self):\n",
    "        if self.testing_null():\n",
    "            return None\n",
    "        else:\n",
    "            return self.deks.pop()\n",
    "        \n",
    "    def peek_left(self):\n",
    "        if self.testing_null():\n",
    "            return None\n",
    "        else:\n",
    "            return self.deks[0]\n",
    "        \n",
    "        \n",
    "    def peek_rigth(self):\n",
    "        if self.testing_null():\n",
    "            return None\n",
    "        else:\n",
    "            return self.deks[-1]\n",
    "        \n",
    "    #извлечение элемента из конца дека\n",
    "    def pop_left(self):\n",
    "        if self.testing_null():\n",
    "            return None\n",
    "        else:\n",
    "            return self.deks.pop(0)\n",
    "        "
   ]
  },
  {
   "cell_type": "markdown",
   "metadata": {},
   "source": [
    "# Работа с файлами"
   ]
  },
  {
   "cell_type": "code",
   "execution_count": 5,
   "metadata": {},
   "outputs": [],
   "source": [
    "import copy\n",
    "import codecs\n",
    "#чтение и запись в файл\n",
    "\n",
    "# Вывод из файла в стек\n",
    "def add_with_stek(file):\n",
    "    st=stek()\n",
    "    try:\n",
    "        f=open(file,'r')\n",
    "        t=f.readlines()\n",
    "        f.close()\n",
    "        for i in range(len(t)):\n",
    "            st.add(t[i])\n",
    "        return st\n",
    "    except:\n",
    "        print(\"Error, не удалось найти файл\")\n",
    "\n",
    "        \n",
    "# Вывод файла в переменную типа string\n",
    "def add_with_str(file):\n",
    "    rez=\"\"\n",
    "    try:\n",
    "        f=codecs.open(file+'.txt', encoding='utf-8')\n",
    "        t=f.readlines()\n",
    "        f.close()\n",
    "        for i in range(len(t)):\n",
    "            rez=rez+t[i]\n",
    "        return rez\n",
    "    except:\n",
    "        print(\"Error, не удалось найти файл\")\n",
    "        \n",
    "# Вывод из файла в дек\n",
    "def add_with_dek(file):\n",
    "    st=dek()\n",
    "    try:\n",
    "        f=open(file,'r')\n",
    "        t=f.readlines()\n",
    "        f.close()\n",
    "        for i in range(len(t)):\n",
    "            st.add_left(t[i])\n",
    "        return st\n",
    "    except:\n",
    "        print(\"Error, не удалось найти файл\")\n",
    "\n",
    "# Запись из дека в файл\n",
    "def add_file(file, dek):\n",
    "    try:\n",
    "        f=open(file,\"w\", encoding=\"utf-8\")\n",
    "        while not dek.testing_null():\n",
    "            f.write(dek.pop_left())\n",
    "        f.close()\n",
    "    except:\n",
    "        print(\"Ошибка\")\n",
    "        return None\n",
    "\n",
    "def add_file_stek(file, stek):\n",
    "    try:\n",
    "        f=open(file,\"w\", encoding=\"utf-8\")\n",
    "        while not stek.testing_null():\n",
    "            f.write(stek.pop())\n",
    "        f.close()\n",
    "    except:\n",
    "        print(\"Ошибка\")\n",
    "        return None\n",
    "\n",
    "# Ввод из переменной в файл\n",
    "def add_file_str(file, text):\n",
    "    try:\n",
    "        f=open(file+'.txt',\"w\", encoding=\"utf-8\")\n",
    "        f.write(text)\n",
    "        f.close()\n",
    "    except:\n",
    "        print(\"Ошибка\")\n",
    "        return None\n"
   ]
  },
  {
   "cell_type": "markdown",
   "metadata": {},
   "source": [
    "# Задание 1"
   ]
  },
  {
   "cell_type": "markdown",
   "metadata": {},
   "source": [
    "Отсортировать строки файла, содержащие названия книг, в алфавитном порядке с использованием двух деков."
   ]
  },
  {
   "cell_type": "code",
   "execution_count": 6,
   "metadata": {},
   "outputs": [
    {
     "name": "stdout",
     "output_type": "stream",
     "text": [
      "Введите название исходного файла qwe\n",
      "Введите название файла в который хотите записать результат qq\n",
      "Error, не удалось найти файл\n"
     ]
    }
   ],
   "source": [
    "def zadanie1(file_res, file_rezult):\n",
    "    st1=add_with_dek(file_res)\n",
    "    if st1==None:\n",
    "        return\n",
    "    st2=dek()\n",
    "    while not st1.testing_null():\n",
    "        el=st1.pop_left()\n",
    "        while not st2.testing_null() and st2.peek_left()<el:\n",
    "            st1.add_rigth(st2.pop_left())\n",
    "        st2.add_left(el)\n",
    "    \n",
    "    add_file(file_rezult, copy.deepcopy(st2))\n",
    "    return st2\n",
    "            \n",
    "file_one=input(\"Введите название исходного файла \")\n",
    "file_two=input(\"Введите название файла в который хотите записать результат \")\n",
    "r=zadanie1(file_one+'.txt', file_two+'.txt')\n",
    "if r is not None:\n",
    "    while not r.testing_null():\n",
    "        print(r.pop_left())"
   ]
  },
  {
   "cell_type": "markdown",
   "metadata": {},
   "source": [
    "# Задание 2"
   ]
  },
  {
   "cell_type": "markdown",
   "metadata": {},
   "source": [
    "Дек содержит последовательность символов для шифровки сообщений. Дан текстовый файл, содержащий зашифрованное сообщение. Пользуясь деком, расшифровать текст. Известно, что при шифровке каждый символ сообщения заменялся следующим за ним в деке по часовой стрелке через один"
   ]
  },
  {
   "cell_type": "code",
   "execution_count": 7,
   "metadata": {},
   "outputs": [],
   "source": [
    "import random\n",
    "\n",
    "def shifr():\n",
    "    alphabet = list('абвгдеёжзийклмнопрстуфхцчшщъыьэюя')\n",
    "    random.shuffle(alphabet)\n",
    "    alphabet = ''.join(alphabet)\n",
    "    #print(alphabet)\n",
    "    keyRing = dek()\n",
    "    for letter in alphabet:\n",
    "        keyRing.add_rigth(letter)\n",
    "    return keyRing"
   ]
  },
  {
   "cell_type": "code",
   "execution_count": 8,
   "metadata": {},
   "outputs": [
    {
     "name": "stdout",
     "output_type": "stream",
     "text": [
      "Error, не удалось найти файл\n",
      "Error, не удалось найти файл\n"
     ]
    }
   ],
   "source": [
    "# Зашифровываем сообщение из файла\n",
    "def encode(file, keyRing):\n",
    "    text=add_with_str(file)\n",
    "    if text is None:\n",
    "        return\n",
    "    encode_text=''\n",
    "    for i in range(len(text)):\n",
    "        t=text[i]\n",
    "        #print(text)\n",
    "        #print(t) \n",
    "        if t==\" \":\n",
    "            encode_text=encode_text+\" \"\n",
    "            continue\n",
    "        while not keyRing.testing_null():\n",
    "            key=keyRing.pop_left()\n",
    "            if key==t:\n",
    "                keyRing.add_rigth(key)\n",
    "                r=keyRing.pop_left()\n",
    "                encode_text=encode_text+r\n",
    "                keyRing.add_rigth(r)\n",
    "                break\n",
    "            keyRing.add_rigth(key)\n",
    "    add_file_str('file_lab4/zadanie_21', encode_text)\n",
    "\n",
    "def decode(file, keyRing):\n",
    "    encode_text=add_with_str(file)\n",
    "    if encode_text is None:\n",
    "        return\n",
    "    decode_text=''\n",
    "    for i in range(len(encode_text)):\n",
    "        \n",
    "        enc=encode_text[i]\n",
    "        if enc==\" \":\n",
    "            decode_text=decode_text+\" \"\n",
    "            continue\n",
    "        while not keyRing.testing_null():\n",
    "            key=keyRing.pop_rigth()\n",
    "            if key==enc:\n",
    "                keyRing.add_left(key)\n",
    "                r=keyRing.pop_rigth()\n",
    "                decode_text=decode_text+r\n",
    "                keyRing.add_left(r)\n",
    "                break\n",
    "            keyRing.add_left(key)\n",
    "    \n",
    "    add_file_str('file_lab4/zadanie_22', decode_text)\n",
    "\n",
    "    \n",
    "keyR=shifr() #создаем кодировку\n",
    "\n",
    "encode('file_lab4/zadanie_2', keyR)\n",
    "decode('file_lab4/zadanie_21', keyR)"
   ]
  },
  {
   "cell_type": "markdown",
   "metadata": {},
   "source": [
    "# Задание 3"
   ]
  },
  {
   "cell_type": "markdown",
   "metadata": {},
   "source": [
    "Даны три стержня и n дисков различного размера. Диски можно надевать на стержни, образуя из них башни. Перенести n дисков со стержня А на стержень С, сохранив их первоначальный порядок. При переносе дисков необходимо соблюдать следующие правила:\n",
    "\n",
    "    на каждом шаге со стержня на стержень переносить только один диск;\n",
    "\n",
    "    диск нельзя помещать на диск меньшего размера;\n",
    "\n",
    "    для промежуточного хранения можно использовать стержень В. Реализовать алгоритм, используя три стека вместо стержней А, В, С. Информация о дисках хранится в исходном файле"
   ]
  },
  {
   "cell_type": "code",
   "execution_count": 9,
   "metadata": {},
   "outputs": [
    {
     "name": "stdout",
     "output_type": "stream",
     "text": [
      "Error, не удалось найти файл\n"
     ]
    }
   ],
   "source": [
    "def move(a,b):\n",
    "    if a.testing_null() and not b.testing_null():\n",
    "        a.add(b.pop())\n",
    "    elif  not a.testing_null() and b.testing_null():\n",
    "        b.add(a.pop())\n",
    "    elif a.testing_null() and b.testing_null():\n",
    "        return\n",
    "    elif a.peek()>b.peek():\n",
    "        a.add(b.pop())\n",
    "    else:\n",
    "        b.add(int(a.pop()))\n",
    "        \n",
    "def zadanie_3(file):\n",
    "    A=stek()\n",
    "    B=stek()\n",
    "    C=stek()\n",
    "    st=add_with_str(file)\n",
    "    if st is None:\n",
    "        return\n",
    "    disk=st.split(\" \")\n",
    "    for i in range(len(disk)):\n",
    "        print(disk[i])\n",
    "        A.add(int(disk[i]))\n",
    "    print(\"len\",len(disk))   \n",
    "    if len(disk)%2==0:\n",
    "        while len(C) is not len(disk):\n",
    "            move(A, B)\n",
    "            move(A, C)\n",
    "            if len(C) is not len(disk):\n",
    "                move(B, C)\n",
    "    else:\n",
    "        while len(C) is not len(disk):\n",
    "            move(A, C)\n",
    "            move(A, B)\n",
    "            if len(C) is not len(disk):\n",
    "                move(B, C)\n",
    "                \n",
    "    print(len(A), len(B), len(C))\n",
    "    for i in range(len(C)):\n",
    "            print(C.pop())\n",
    "    \n",
    "    \n",
    "zadanie_3('file_lab4/zadanie_3')"
   ]
  },
  {
   "cell_type": "markdown",
   "metadata": {},
   "source": [
    "# Задание 4"
   ]
  },
  {
   "cell_type": "markdown",
   "metadata": {},
   "source": [
    "Дан текстовый файл с программой на алгоритмическом языке. За один просмотр файла проверить баланс круглых скобок в тексте, используя стек."
   ]
  },
  {
   "cell_type": "code",
   "execution_count": 10,
   "metadata": {},
   "outputs": [
    {
     "name": "stdout",
     "output_type": "stream",
     "text": [
      "Error, не удалось найти файл\n",
      "None\n"
     ]
    }
   ],
   "source": [
    "def zadanie_4(file):\n",
    "    s=stek()\n",
    "    st=add_with_str(file)\n",
    "    if st is None:\n",
    "        return\n",
    "    for i in st:\n",
    "        if i=='(':\n",
    "            s.add(i)\n",
    "        elif i==')':\n",
    "            if s.testing_null():\n",
    "                return False\n",
    "            s.pop()\n",
    "    return s.testing_null()\n",
    "print(zadanie_4('file_lab4/zadanie_4'))"
   ]
  },
  {
   "cell_type": "markdown",
   "metadata": {},
   "source": [
    "# Задание 5"
   ]
  },
  {
   "cell_type": "markdown",
   "metadata": {},
   "source": [
    "Дан текстовый файл с программой на алгоритмическом языке. За один просмотр файла проверить баланс квадратных скобок в тексте, используя дек."
   ]
  },
  {
   "cell_type": "code",
   "execution_count": 11,
   "metadata": {},
   "outputs": [
    {
     "name": "stdout",
     "output_type": "stream",
     "text": [
      "Error, не удалось найти файл\n",
      "None\n"
     ]
    }
   ],
   "source": [
    "def zadanie_5(file):\n",
    "    s=dek()\n",
    "    st=add_with_str(file)\n",
    "    if st is None:\n",
    "        return\n",
    "    for i in st:\n",
    "        if i=='[':\n",
    "            s.add_rigth(i)\n",
    "        elif i==']':\n",
    "            if s.testing_null():\n",
    "                return False\n",
    "            s.pop_rigth()\n",
    "    return s.testing_null()\n",
    "print(zadanie_5('file_lab4/zadanie_5'))"
   ]
  },
  {
   "cell_type": "markdown",
   "metadata": {},
   "source": [
    "# Задание 6"
   ]
  },
  {
   "cell_type": "markdown",
   "metadata": {},
   "source": [
    "Дан файл из символов. Используя стек, за один просмотр файла напечатать сначала все цифры, затем все буквы, и, наконец, все остальные символы, сохраняя исходный порядок в каждой группе символов."
   ]
  },
  {
   "cell_type": "code",
   "execution_count": 12,
   "metadata": {},
   "outputs": [
    {
     "name": "stdout",
     "output_type": "stream",
     "text": [
      "Error, не удалось найти файл\n"
     ]
    }
   ],
   "source": [
    "def zadanie_6(file):\n",
    "    digit=stek()\n",
    "    letters=stek()\n",
    "    other=stek()\n",
    "    st=add_with_str(file)\n",
    "    if st is None:\n",
    "        return\n",
    "    i=len(st)-1\n",
    "    while i>=0:\n",
    "        if st[i].isalpha():\n",
    "            letters.add(st[i])\n",
    "        elif st[i].isdigit():\n",
    "            digit.add(st[i])\n",
    "        else:\n",
    "            other.add(st[i])\n",
    "        i=i-1\n",
    "    print(\"Цифры\")\n",
    "    d=\"\"\n",
    "    print(digit.testing_null())\n",
    "    while not digit.testing_null():\n",
    "        d=d+digit.pop()\n",
    "    print(d)\n",
    "    d=\"\"\n",
    "    print(\"Буквы\")\n",
    "    while not letters.testing_null():\n",
    "        d=d+letters.pop()\n",
    "    print(d)\n",
    "    d=\"\"\n",
    "    print(\"другие символы\")\n",
    "    while not other.testing_null():\n",
    "        d=d+other.pop()\n",
    "    print(d)\n",
    "zadanie_6('file_lab4/zadanie_6')"
   ]
  },
  {
   "cell_type": "markdown",
   "metadata": {},
   "source": [
    "# Задание 7"
   ]
  },
  {
   "cell_type": "markdown",
   "metadata": {},
   "source": [
    "Дан файл из целых чисел. Используя дек, за один просмотр файла напечатать сначала все отрицательные числа, затем все положительные числа, сохраняя исходный порядок в каждой группе."
   ]
  },
  {
   "cell_type": "code",
   "execution_count": 13,
   "metadata": {},
   "outputs": [
    {
     "name": "stdout",
     "output_type": "stream",
     "text": [
      "Error, не удалось найти файл\n"
     ]
    }
   ],
   "source": [
    "def zadanie_7(file):\n",
    "    rez=dek()\n",
    "    st=add_with_str(file)\n",
    "    if st is None:\n",
    "        return\n",
    "    mas=st.split(\" \")\n",
    "    mas_=list()\n",
    "    for i in mas:\n",
    "        mas_.append(int(i))\n",
    "    for i in mas_:\n",
    "        if int(i)>=0:\n",
    "            rez.add_rigth(i)\n",
    "        else:\n",
    "            if rez.testing_null() or rez.peek_left()>=0:\n",
    "                rez.add_left(i)\n",
    "            else:\n",
    "                while rez.peek_left()<0:\n",
    "                    rez.add_rigth(rez.pop_left())\n",
    "                rez.add_left(i)\n",
    "                while rez.peek_rigth()<0:\n",
    "                    rez.add_left(rez.pop_rigth())\n",
    "                \n",
    "    while not rez.testing_null():\n",
    "        print(rez.pop_left())\n",
    "zadanie_7('file_lab4/zadanie_7')"
   ]
  },
  {
   "cell_type": "markdown",
   "metadata": {},
   "source": [
    "# Задание 8"
   ]
  },
  {
   "cell_type": "markdown",
   "metadata": {},
   "source": [
    "Дан текстовый файл. Используя стек, сформировать новый текстовый файл, содержащий строки исходного файла, записанные в обратном порядке: первая строка становится последней, вторая – предпоследней и т.д"
   ]
  },
  {
   "cell_type": "code",
   "execution_count": 14,
   "metadata": {},
   "outputs": [
    {
     "name": "stdout",
     "output_type": "stream",
     "text": [
      "Error, не удалось найти файл\n"
     ]
    }
   ],
   "source": [
    "def zadanie_8(file, file_rez):\n",
    "    steks=add_with_stek(file)\n",
    "    if steks is None:\n",
    "        return\n",
    "    #while not steks.testing_null():\n",
    "     #   print(steks.pop())\n",
    "    add_file_stek(file_rez, steks)\n",
    "\n",
    "zadanie_8('file_lab4/zadanie_8.txt','file_lab4/rezult_8.txt')"
   ]
  },
  {
   "cell_type": "markdown",
   "metadata": {},
   "source": [
    "# Задание 9"
   ]
  },
  {
   "cell_type": "markdown",
   "metadata": {},
   "source": [
    "Дан текстовый файл. Используя стек, вычислить значение логического выражения, записанного в текстовом файле в следующей форме: < ЛВ > ::= T | F | (N<ЛВ>) | (<ЛВ>A<ЛВ>) | (<ЛВ>X<ЛВ>) | (<ЛВ>O<ЛВ>), где буквами обозначены логические константы и операции: T – True, F – False, N – Not, A – And, X – Xor, O – Or."
   ]
  },
  {
   "cell_type": "code",
   "execution_count": 15,
   "metadata": {},
   "outputs": [
    {
     "name": "stdout",
     "output_type": "stream",
     "text": [
      "T\n"
     ]
    }
   ],
   "source": [
    "def zadanie_9(file):\n",
    "    opstek=stek()\n",
    "    vstek=stek()\n",
    "    #st=add_with_str(file)\n",
    "    st=file\n",
    "    i=0\n",
    "    while i<len(st):\n",
    "        \n",
    "        if st[i]=='(':\n",
    "            vstek.add(st[i])\n",
    "            i=i+1\n",
    "        elif st[i]==')':\n",
    "            vstek.pop()\n",
    "            i=i+1\n",
    "        elif st[i]=='N' or st[i]=='A' or st[i]=='X' or st[i]=='O':\n",
    "            vstek.add(st[i])\n",
    "            i=i+1\n",
    "            continue\n",
    "        elif st[i]=='T':\n",
    "            opstek.add(st[i])\n",
    "            i=i+1\n",
    "        elif st[i]=='F':\n",
    "            opstek.add(st[i])\n",
    "            i=i+1\n",
    "                \n",
    "        if vstek.peek()=='A':  \n",
    "            a=opstek.pop()\n",
    "            b=opstek.pop()\n",
    "            if a=='T' and b =='T':\n",
    "                opstek.add('T')\n",
    "            else:\n",
    "                opstek.add('F')\n",
    "            vstek.pop()\n",
    "                \n",
    "        elif vstek.peek()=='X':\n",
    "            a=opstek.pop()\n",
    "            b=opstek.pop()\n",
    "            if (a=='T' and b =='T') or (a=='F' and b =='F'):\n",
    "                opstek.add('F')\n",
    "            else:\n",
    "                opstek.add('T')\n",
    "            vstek.pop()\n",
    "                \n",
    "        elif vstek.peek()=='O':\n",
    "            a=opstek.pop()\n",
    "            b=opstek.pop()\n",
    "            if a=='T' or b=='T':\n",
    "                opstek.add('T')\n",
    "            else:\n",
    "                opstek.add('F')\n",
    "            vstek.pop()\n",
    "        elif vstek.peek()=='N':\n",
    "            a=opstek.pop()\n",
    "            if a=='T':\n",
    "                opstek.add('F')\n",
    "            else:\n",
    "                opstek.add('T')\n",
    "            vstek.pop()\n",
    "                    \n",
    "    print(opstek.pop())\n",
    "                    \n",
    "                    \n",
    "                    \n",
    "zadanie_9('((T)XF)X(FAF)OT')"
   ]
  },
  {
   "cell_type": "markdown",
   "metadata": {},
   "source": [
    "# Задание 10"
   ]
  },
  {
   "cell_type": "code",
   "execution_count": 16,
   "metadata": {},
   "outputs": [
    {
     "name": "stdout",
     "output_type": "stream",
     "text": [
      "10\n"
     ]
    }
   ],
   "source": [
    "def zadanie_10(st):\n",
    "    op = stek()\n",
    "    nums = stek()\n",
    "   # file=add_with_str(st)\n",
    "    file=st\n",
    "    num = ''\n",
    "    cur = 0\n",
    "    while cur < len(file):\n",
    "        i = file[cur]\n",
    "        if i.isdigit():\n",
    "            num += i\n",
    "        elif num != '':\n",
    "            nums.add(int(num))\n",
    "            num = ''\n",
    "        if i in 'MN':\n",
    "            op.add(i)\n",
    "        cur += 1\n",
    "\n",
    "    while not op.testing_null():\n",
    "        a = nums.pop()\n",
    "        b = nums.pop()\n",
    "        if a < b:\n",
    "            a,b = b,a\n",
    "        if op.pop() == 'M':\n",
    "            nums.add(a)\n",
    "        else:\n",
    "            nums.add(b)\n",
    "\n",
    "    while not nums.testing_null():\n",
    "        print(nums.pop())\n",
    "        \n",
    "zadanie_10('M(N(10,9), M(4, N(8, M(7, M(6, M(5, 4))))))')\n"
   ]
  },
  {
   "cell_type": "code",
   "execution_count": 18,
   "metadata": {},
   "outputs": [
    {
     "data": {
      "text/plain": [
       "9"
      ]
     },
     "execution_count": 18,
     "metadata": {},
     "output_type": "execute_result"
    }
   ],
   "source": [
    "# Исправленное\n",
    "def zadanie_10(st):\n",
    "    op = stek()\n",
    "    nums = stek()\n",
    "   # file=add_with_str(st)\n",
    "    file=st\n",
    "    num = ''\n",
    "    cur = 0\n",
    "    for cur in range(len(file)):\n",
    "        if file[cur] in 'MN':\n",
    "            op.add(file[cur])\n",
    "        elif file[cur].isdigit():\n",
    "            num+=file[cur]\n",
    "        elif num !='':\n",
    "            nums.add(int(num))\n",
    "            num=''\n",
    "        \n",
    "        if file[cur]==')':\n",
    "            b = nums.pop()\n",
    "            a = nums.pop()\n",
    "            if op.pop() == 'M':\n",
    "                if a>=b:\n",
    "                    nums.add(a)\n",
    "                else:\n",
    "                    nums.add(b)\n",
    "                \n",
    "            else:\n",
    "                if a>=b:\n",
    "                    nums.add(b)\n",
    "                else:\n",
    "                    nums.add(a)\n",
    "            \n",
    "    return nums.pop()\n",
    "\n",
    "zadanie_10('M(N(10,9), M(4, N(8, M(7, M(6, M(5, 4))))))')"
   ]
  },
  {
   "cell_type": "markdown",
   "metadata": {},
   "source": [
    "# Задание 11"
   ]
  },
  {
   "cell_type": "code",
   "execution_count": 19,
   "metadata": {},
   "outputs": [
    {
     "data": {
      "text/plain": [
       "True"
      ]
     },
     "execution_count": 19,
     "metadata": {},
     "output_type": "execute_result"
    }
   ],
   "source": [
    "def zadanie_11(file):\n",
    "    steks=stek()\n",
    "    #st=add_with_str(file)\n",
    "    st=file\n",
    "    for i in range(len(st)):\n",
    "        if st[i]=='(':\n",
    "            steks.add(st[i])\n",
    "        elif st[i]==')':\n",
    "            s=steks.pop()\n",
    "            steks.pop()\n",
    "            steks.add(s)\n",
    "        elif st[i] in '+-':\n",
    "            if steks.peek()=='name' or steks.peek()=='formula':\n",
    "                steks.add(st[i])\n",
    "            else:\n",
    "                return False\n",
    "        elif st[i] in 'xyz':\n",
    "            \n",
    "            if (not steks.testing_null()) and steks.peek() in '+-':\n",
    "                steks.pop()\n",
    "                steks.pop()\n",
    "                steks.add('formula')\n",
    "            else:\n",
    "                steks.add('name')\n",
    "        \n",
    "        if steks.peek()=='formula':\n",
    "            steks.pop()\n",
    "            if not steks.testing_null():\n",
    "                if steks.peek() in '+-':\n",
    "                    steks.pop()\n",
    "                    steks.pop()\n",
    "            steks.add('formula')\n",
    "            \n",
    "    if len(steks)==1 and (steks.peek()=='formula' or steks.peek()=='name'):\n",
    "        return True\n",
    "    else:\n",
    "        return False\n",
    "    \n",
    "zadanie_11('x')"
   ]
  },
  {
   "cell_type": "markdown",
   "metadata": {},
   "source": [
    "# Вывод:"
   ]
  },
  {
   "cell_type": "markdown",
   "metadata": {},
   "source": [
    "В ходе проделанной лабораторной работы я изучил структуры данных стек и дек. Также я научился применять их для решения практических задач."
   ]
  },
  {
   "cell_type": "code",
   "execution_count": null,
   "metadata": {},
   "outputs": [],
   "source": []
  }
 ],
 "metadata": {
  "kernelspec": {
   "display_name": "Python 3",
   "language": "python",
   "name": "python3"
  },
  "language_info": {
   "codemirror_mode": {
    "name": "ipython",
    "version": 3
   },
   "file_extension": ".py",
   "mimetype": "text/x-python",
   "name": "python",
   "nbconvert_exporter": "python",
   "pygments_lexer": "ipython3",
   "version": "3.8.5"
  }
 },
 "nbformat": 4,
 "nbformat_minor": 4
}
