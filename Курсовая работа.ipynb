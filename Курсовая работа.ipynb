{
 "cells": [
  {
   "cell_type": "markdown",
   "metadata": {},
   "source": [
    "# Курсовая работа по дисциплине СиАОД №1¶\n",
    "# Выполнил студент группы БСТ1903 Чикенев Станислав\n"
   ]
  },
  {
   "cell_type": "markdown",
   "metadata": {},
   "source": [
    "## Задача 1 «Треугольник с максимальным периметром»"
   ]
  },
  {
   "cell_type": "markdown",
   "metadata": {},
   "source": [
    "Массив A состоит из целых положительных чисел ­ длин отрезков. Составьте из трех отрезков такой треугольник, чтобы его периметр был максимально возможным. Если невозможно составить треугольник с положительной площадью ­ функция возвращает 0."
   ]
  },
  {
   "cell_type": "code",
   "execution_count": 2,
   "metadata": {},
   "outputs": [
    {
     "name": "stdout",
     "output_type": "stream",
     "text": [
      "Введите длину массива6\n",
      "1\n",
      "2\n",
      "3\n",
      "4\n",
      "5\n",
      "6\n",
      "[6, 5, 4, 3, 2, 1]\n",
      "Периметр= 15\n"
     ]
    }
   ],
   "source": [
    "#Находжение периметра\n",
    "def Perimetr (a, b, c):\n",
    "    if (a+b)>c and (a+c)>b and (b+c)>a:\n",
    "        return int(a+b+c)\n",
    "    else:\n",
    "        return 0\n",
    "#\n",
    "length=int(input('Введите длину массива'))\n",
    "mas=[]\n",
    "for i in range(length):\n",
    "    mas.append(int(input()))\n",
    "mas=sorted(mas, reverse=True)\n",
    "print(mas)\n",
    "for i in range(len(mas)-2):\n",
    "    if Perimetr(mas[i], mas[i+1], mas[i+2])>0:\n",
    "        print(\"Периметр=\", Perimetr(mas[i], mas[i+1], mas[i+2]))\n",
    "        break\n"
   ]
  },
  {
   "cell_type": "markdown",
   "metadata": {},
   "source": [
    "## Задача 2. «Максимальное число»"
   ]
  },
  {
   "cell_type": "markdown",
   "metadata": {},
   "source": [
    "Дан массив неотрицательных целых чисел nums. Расположите их в таком порядке, чтобы вместе они образовали максимально возможное число."
   ]
  },
  {
   "cell_type": "code",
   "execution_count": 3,
   "metadata": {},
   "outputs": [
    {
     "name": "stdout",
     "output_type": "stream",
     "text": [
      " 8308 8308 830\n",
      " 9 99991\n",
      " 9 5 34 3 30\n"
     ]
    }
   ],
   "source": [
    "def check(a,b):\n",
    "    one=str(a)+str(b)\n",
    "    two=str(b)+str(a)\n",
    "    if int(one)>int(two):\n",
    "        return True\n",
    "    else:\n",
    "        return False\n",
    "    \n",
    "def shell(massline):\n",
    "    length=len(massline)\n",
    "    l=length\n",
    "    while l>0:\n",
    "        for i in range(length-l):\n",
    "            j=i\n",
    "            while j>=0 and check(massline[j+l], massline[j]):\n",
    "                massline[j], massline[j+l]=massline[j+l], massline[j]\n",
    "                j=j-l\n",
    "        l=int(l/2)\n",
    "    strr=\"\"\n",
    "    for i in range(len(massline)):\n",
    "        strr=strr+\" \"+str(massline[i])\n",
    "    return strr1\n",
    "\n",
    "mas1=[8308,8308,830]\n",
    "mas2=[99991,9]\n",
    "mas3=[3,30,34,5,9]\n",
    "print(shell(mas1))\n",
    "print(shell(mas2))\n",
    "print(shell(mas3))"
   ]
  },
  {
   "cell_type": "markdown",
   "metadata": {},
   "source": [
    "Дана матрица mat размером m * n, значения ­ целочисленные. Напишите функцию, сортирующую каждую диагональ матрицы по возрастанию и возвращающую получившуюся матрицу."
   ]
  },
  {
   "cell_type": "code",
   "execution_count": 21,
   "metadata": {},
   "outputs": [
    {
     "name": "stdout",
     "output_type": "stream",
     "text": [
      "Введите m и n:4 4\n",
      "[[ 0  8  2 14]\n",
      " [ 7  6  0 18]\n",
      " [15  2  6 20]\n",
      " [10  8  6  8]]\n",
      "заменяет  0  на  8\n",
      "заменяет  2  на  7\n",
      "заменяет  8  на  15\n",
      "заменяет  6  на  7\n",
      "\n",
      "\n",
      "[[ 0  0  2 14]\n",
      " [ 2  6  8 18]\n",
      " [ 8  6  6 20]\n",
      " [10 15  7  8]]\n"
     ]
    },
    {
     "name": "stderr",
     "output_type": "stream",
     "text": [
      "<ipython-input-21-5a0ebf00e0be>:3: DeprecationWarning: This function is deprecated. Please call randint(0, 20 + 1) instead\n",
      "  massiv = numpy.random.random_integers(0, 20, size=(m, n))\n"
     ]
    }
   ],
   "source": [
    "import numpy\n",
    "m, n= map(int, input('Введите m и n:').split(' '))\n",
    "massiv = numpy.random.random_integers(0, 20, size=(m, n))\n",
    "print(massiv)\n",
    "for i in range(0,m):\n",
    "    for j in range(0,n):\n",
    "        l=j\n",
    "        k=i\n",
    "        while k<m and l<n:\n",
    "            if massiv[i][j]>massiv[k][l]:\n",
    "                print (\"заменяет \" , massiv[k][l] ,\" на \" , massiv[i][j] )\n",
    "                massiv[i][j], massiv[k][l]=massiv[k][l], massiv[i][j]\n",
    "            k=k+1\n",
    "            l=l+1\n",
    "print(\"\\n\")\n",
    "print(massiv)"
   ]
  },
  {
   "cell_type": "markdown",
   "metadata": {},
   "source": [
    "## Задача 4 «Шарики и стрелы»"
   ]
  },
  {
   "cell_type": "markdown",
   "metadata": {},
   "source": [
    "Некоторые сферические шарики распределены по двухмерному пространству. Для каждого шарика даны xкоординаты начала и конца его горизонтального диаметра. Так как пространство двумерно, то yкоординаты не имеют значения в данной задаче. Координата xstart всегда меньше xend. Стрелу можно выстрелить строго вертикально (вдоль yоси) из разных точек xоси. Шарик с координатами xstart и xend уничтожается стрелой, если она была выпущена из такой позиции x, что xstart ⩽ x ⩽ xend. Когда стрела выпущена, она летит в пространстве бесконечное время (уничтожая все шарики на пути). Дан массив points, где points[i] = [xstart, xend]. Напишите функцию, возвращающую минимальное количество стрел, которые нужно выпустить, чтобы уничтожить все шарики."
   ]
  },
  {
   "cell_type": "code",
   "execution_count": 22,
   "metadata": {},
   "outputs": [
    {
     "name": "stdout",
     "output_type": "stream",
     "text": [
      "[[1, 10], [3, 9], [4, 11], [6, 7], [6, 9], [8, 12], [9, 12]]\n",
      "2\n"
     ]
    }
   ],
   "source": [
    "class sh:\n",
    "    def __init__(self, mass):\n",
    "        self.mass=mass\n",
    "        self.count=1\n",
    "    \n",
    "    def search(self):\n",
    "        if len(self.mass)==0:\n",
    "            self.count=0\n",
    "        else:\n",
    "            m=0\n",
    "            for i in range(len(self.mass)):\n",
    "                self.mass.sort()\n",
    "            print(self.mass)\n",
    "            for i in range(len(self.mass)-1):\n",
    "                if self.mass[m][1]<self.mass[i+1][0]:\n",
    "                    self.count=self.count+1\n",
    "                    m=i+1\n",
    "                elif self.mass[m][0]<=self.mass[i+1][0] and self.mass[m][1]>=self.mass[i+1][1]:\n",
    "                       m=i+1\n",
    "                    \n",
    "        return self.count\n",
    "            \n",
    "mass=[[9,12],[1,10],[4,11],[8,12],[3,9],[6,9],[6,7]]           \n",
    "a=sh(mass)\n",
    "print(a.search())"
   ]
  },
  {
   "cell_type": "markdown",
   "metadata": {},
   "source": [
    "## Задача 5 «Стопки монет»"
   ]
  },
  {
   "cell_type": "markdown",
   "metadata": {},
   "source": [
    "На столе стоят 3n стопок монет. Вы и ваши друзья Алиса и Боб забираете стопки монет по следующему алгоритму:\n",
    "\n",
    "Вы выбираете 3 стопки монет из оставшихся на столе. Алиса забирает себе стопку с максимальным количеством монет. Вы забираете одну из двух оставшихся стопок. Боб забирает последнюю стопку. Если еще остались стопки, то действия повторяются с первого шага. Дан массив целых положительных чисел piles. Напишите функцию, возвращающую максимальное число монет, которое вы можете получить."
   ]
  },
  {
   "cell_type": "code",
   "execution_count": 23,
   "metadata": {},
   "outputs": [
    {
     "data": {
      "text/plain": [
       "18"
      ]
     },
     "execution_count": 23,
     "metadata": {},
     "output_type": "execute_result"
    }
   ],
   "source": [
    "def moneti(arr):\n",
    "    arr.sort()\n",
    "    a=len(arr)//3\n",
    "    s=0\n",
    "    while a<len(arr):\n",
    "        s=s+arr[a]\n",
    "        a=a+2\n",
    "    return (s)\n",
    "moneti ( [9,8,7,6,5,1,2,3,4])"
   ]
  },
  {
   "cell_type": "markdown",
   "metadata": {},
   "source": [
    "## Задача 6 «Объединение отрезков»"
   ]
  },
  {
   "cell_type": "markdown",
   "metadata": {},
   "source": [
    "Дан массив отрезков intervals, в котором intervals[i] = [start_i, end_i], некоторые отрезки могут пересекаться. Напишите функцию, которая объединяет все пересекающиеся отрезки в один и возвращает новый массив непересекающихся отрезков.\n",
    "\n"
   ]
  },
  {
   "cell_type": "code",
   "execution_count": 24,
   "metadata": {},
   "outputs": [
    {
     "data": {
      "text/plain": [
       "[[1, 5]]"
      ]
     },
     "execution_count": 24,
     "metadata": {},
     "output_type": "execute_result"
    }
   ],
   "source": [
    "def comb_otr(interv):\n",
    "    interv.sort()\n",
    "    i=0\n",
    "    while i <len(interv)-1:\n",
    "        if interv[i][1]>=interv[i+1][0]:\n",
    "            a=interv.pop(0)\n",
    "            b=interv.pop(0)\n",
    "            interv.insert(0, [a[0],b[1]])\n",
    "        else:\n",
    "            i+=1            \n",
    "    return interv\n",
    "\n",
    "comb_otr( [[1,4],[4,5]])"
   ]
  },
  {
   "cell_type": "markdown",
   "metadata": {},
   "source": [
    "## Задача 7"
   ]
  },
  {
   "cell_type": "markdown",
   "metadata": {},
   "source": [
    "Даны две строки: s1 и s2 с одинаковым размером, проверьте, может ли некоторая перестановка строки s1 “победить” некоторую перестановку строки s2 или наоборот. Строка x может “победить” строку y (обе имеют размер n), если x[i]> = y [i] (в алфавитном порядке) для всех i от 0 до n-1."
   ]
  },
  {
   "cell_type": "code",
   "execution_count": 25,
   "metadata": {},
   "outputs": [
    {
     "data": {
      "text/plain": [
       "True"
      ]
     },
     "execution_count": 25,
     "metadata": {},
     "output_type": "execute_result"
    }
   ],
   "source": [
    "def zadacha_7(str1, str2):\n",
    "    if len(str1)!=len(str2):\n",
    "        return False\n",
    "    st1=list(str1)\n",
    "    st2=list(str2)\n",
    "    l=len(st1)\n",
    "    st1.sort()\n",
    "    st2.sort()\n",
    "    i=0\n",
    "    while i<l and st1[i]==st2[i]:\n",
    "        i+=1\n",
    "    if i == l:\n",
    "        return True\n",
    "    if st1[i]>st2[i]:\n",
    "        for k in range(len(st1)):\n",
    "            if(st1[k]<st2[k]):\n",
    "                return False\n",
    "        return True\n",
    "    else:\n",
    "        for k in range(len(st2)):\n",
    "            if(st2[k]<st1[k]):\n",
    "                return False\n",
    "        return True\n",
    "            \n",
    "    \n",
    "zadacha_7('abe','acb')"
   ]
  },
  {
   "cell_type": "markdown",
   "metadata": {},
   "source": [
    "## Задача 8"
   ]
  },
  {
   "cell_type": "markdown",
   "metadata": {},
   "source": [
    "Дана строка s, вернуть самую длинную полиндромную подстроку в s."
   ]
  },
  {
   "cell_type": "code",
   "execution_count": 28,
   "metadata": {},
   "outputs": [
    {
     "name": "stdout",
     "output_type": "stream",
     "text": [
      "оло\n",
      "0.00027699999998276326\n"
     ]
    }
   ],
   "source": [
    "def palindrome(str1):\n",
    "    maxstr=''\n",
    "    for i in range(len(str1)-1):\n",
    "        for j in range(i+1, len(str1)):\n",
    "            if str1[i:j+1]==str1[i:j+1][::-1] and len(maxstr)<len(str1[i:j+1]):\n",
    "                maxstr=str1[i:j+1]\n",
    "    return maxstr\n",
    "\n",
    "timerStart = time.perf_counter()             \n",
    "print(palindrome(\"капролодкакпопнонj\"))\n",
    "timerEnd = time.perf_counter()\n",
    "timer1 = timerEnd - timerStart\n",
    "print(timer1)"
   ]
  },
  {
   "cell_type": "markdown",
   "metadata": {},
   "source": [
    "## Задача 9"
   ]
  },
  {
   "cell_type": "markdown",
   "metadata": {},
   "source": [
    "Вернуть количество отдельных непустых подстрок текста, которые могут быть записаны как конкатенация некоторой строки с самой собой (т.е. она может быть записана, как a + a, где a - некоторая строка)."
   ]
  },
  {
   "cell_type": "code",
   "execution_count": 4,
   "metadata": {},
   "outputs": [
    {
     "name": "stdout",
     "output_type": "stream",
     "text": [
      "д д\n",
      "по по\n",
      "({'дд', 'попо'}, 2)\n",
      "0.000792100000580831\n"
     ]
    }
   ],
   "source": [
    "import time\n",
    "def len_podstr(str1):\n",
    "    rez=set()\n",
    "    for i in range(len(str1)-1):\n",
    "        k=i\n",
    "        for j in range(i+1, len(str1)):\n",
    "            #print(str1[i:j],str1[j:j+(j-i)])\n",
    "            if j+(j-i)+1<len(str1) and str1[i:j]==str1[j:j+(j-i)]:\n",
    "                print(str1[i:j],str1[j:j+(j-i)])\n",
    "                rez.add(str1[i:j+(j-i)])\n",
    "                         \n",
    "    return rez, len(rez)\n",
    "\n",
    "timerStart = time.perf_counter() \n",
    "print (len_podstr(\"абвгддгвпопомткотокшру\") )\n",
    "timerEnd = time.perf_counter()\n",
    "timer1 = timerEnd - timerStart\n",
    "print(timer1)"
   ]
  },
  {
   "cell_type": "markdown",
   "metadata": {},
   "source": [
    "# Вывод:"
   ]
  },
  {
   "cell_type": "markdown",
   "metadata": {},
   "source": [
    "В ходе проделанной работы были выполнены задачи на нахождение максимального периметра, максимального числа, сортировки диагоналей, 3 задачи по работе со строками, монетки, интервалы а также шарики и стрелы"
   ]
  },
  {
   "cell_type": "code",
   "execution_count": null,
   "metadata": {},
   "outputs": [],
   "source": []
  }
 ],
 "metadata": {
  "kernelspec": {
   "display_name": "Python 3",
   "language": "python",
   "name": "python3"
  },
  "language_info": {
   "codemirror_mode": {
    "name": "ipython",
    "version": 3
   },
   "file_extension": ".py",
   "mimetype": "text/x-python",
   "name": "python",
   "nbconvert_exporter": "python",
   "pygments_lexer": "ipython3",
   "version": "3.8.5"
  }
 },
 "nbformat": 4,
 "nbformat_minor": 4
}
