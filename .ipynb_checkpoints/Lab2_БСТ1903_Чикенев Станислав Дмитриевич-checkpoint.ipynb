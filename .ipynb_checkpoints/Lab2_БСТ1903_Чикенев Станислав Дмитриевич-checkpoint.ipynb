{
 "cells": [
  {
   "cell_type": "markdown",
   "metadata": {},
   "source": [
    "# Лабораторная работа №2\n",
    "## Выполнил студент группы БСТ1903 Чикенев Станислав Дмитриевич\n",
    "### Общее задание\n",
    "Реализовать методы поиска в соответствии с заданием. Организовать генерацию\n",
    "начального набора случайных данных. Для всех вариантов добавить реализацию\n",
    "добавления, поиска и удаления элементов. Оценить время работы каждого алгоритма\n",
    "поиска и сравнить его со временем работы стандартной функции поиска, используемой в\n",
    "выбранном языке программирования."
   ]
  },
  {
   "cell_type": "markdown",
   "metadata": {},
   "source": [
    "### Задание №1"
   ]
  },
  {
   "cell_type": "code",
   "execution_count": null,
   "metadata": {},
   "outputs": [],
   "source": []
  },
  {
   "cell_type": "markdown",
   "metadata": {},
   "source": [
    "### Задание №2"
   ]
  },
  {
   "cell_type": "code",
   "execution_count": 5,
   "metadata": {},
   "outputs": [
    {
     "ename": "SyntaxError",
     "evalue": "invalid syntax (<ipython-input-5-1d608fcb021e>, line 16)",
     "output_type": "error",
     "traceback": [
      "\u001b[1;36m  File \u001b[1;32m\"<ipython-input-5-1d608fcb021e>\"\u001b[1;36m, line \u001b[1;32m16\u001b[0m\n\u001b[1;33m    def search_simpleHH(mthhash, a)\u001b[0m\n\u001b[1;37m                                   ^\u001b[0m\n\u001b[1;31mSyntaxError\u001b[0m\u001b[1;31m:\u001b[0m invalid syntax\n"
     ]
    }
   ],
   "source": [
    "import random\n",
    "#QQQ\n",
    "def simpleHH(mthhash, a):\n",
    "    i=int(0)\n",
    "    m=0\n",
    "    n=1\n",
    "    while n==1:\n",
    "        m=(ord(a[0])+1)%(len(mthhash))\n",
    "        if mthhash[m]== \"\":\n",
    "            mthhash[m]=a\n",
    "            n=0\n",
    "        else:\n",
    "            i=i+1\n",
    "            \n",
    "#search\n",
    "def search_simpleHH(mthhash, a)\n",
    "\n",
    "# ПСЕВДОСЛУЧАЙНЫЕ ЧИСЛА\n",
    "def psefrandom(mthhash, a):\n",
    "    k=0\n",
    "    m=0\n",
    "    n=1\n",
    "    while n==1:\n",
    "        random.seed(k)\n",
    "        i=int((random.random()*10000000000000000)%1000)\n",
    "        m=(ord(a[0])+i)%(len(mthhash))\n",
    "        if mthhash[m]==\"\":\n",
    "            mthhash[m]=a\n",
    "            n=0\n",
    "            else:\n",
    "                l=l+1\n",
    "                \n",
    "#search1\n",
    "\n",
    "\n",
    "#cepochka\n",
    "def cepochka(mthhash, a):\n",
    "    k=0\n",
    "    for i in range(len(a)):\n",
    "        k=k+ord(a[i])\n",
    "    k=k%10\n",
    "    \n",
    "#\n",
    "massive=([\"\"]*256)\n",
    "massive=([\"\"]*1 for i in range (10))\n",
    "a=(input())\n",
    "b=(input())\n",
    "rehash(massive, a)\n",
    "rehash(massive, b)\n",
    "print (massive)"
   ]
  },
  {
   "cell_type": "markdown",
   "metadata": {},
   "source": [
    "### Задание №3"
   ]
  },
  {
   "cell_type": "code",
   "execution_count": 6,
   "metadata": {},
   "outputs": [
    {
     "name": "stdout",
     "output_type": "stream",
     "text": [
      "8\n",
      ". F . . . . . .\n",
      ". . . F . . . .\n",
      ". . . . . F . .\n",
      ". . . . . . . F\n",
      ". . F . . . . .\n",
      "F . . . . . . .\n",
      ". . . . . . F .\n",
      ". . . . F . . .\n"
     ]
    }
   ],
   "source": [
    "n = int(input())\n",
    "remainder = n % 6\n",
    "#Если остаток равен 2, поменяйте местами 1 и 3\n",
    "#в нечетном списке и переместите 5 в конец.\n",
    "if remainder == 2:\n",
    "    even = list(range(1, n, 2))\n",
    "    odd = list(range(2, n, 2))\n",
    "    odd[1] = 0\n",
    "    odd.append(4)\n",
    "#Если остаток равен 3, переместите 2\n",
    "#до конца четного списка и 1, 3\n",
    "#до конца нечетного списка.\n",
    "elif remainder == 3:\n",
    "    even = list(range(3, n, 2))\n",
    "    even.append(1)\n",
    "    odd = list(range(4, n, 2))\n",
    "    odd.append(0)\n",
    "    odd.append(2)\n",
    "#Если остаток от деления n на 6\n",
    "#это не 2 или 3, то список просто\n",
    "#все четные числа, за которыми следуют все\n",
    "#нечетные числа не больше n.\n",
    "else:\n",
    "    even = list(range(1, n, 2))\n",
    "    odd = list(range(0, n, 2))\n",
    "#Добавить нечетный список к четному списку\n",
    "#и расставьте королев по рядам\n",
    "#задается этими числами.\n",
    "result = even + odd\n",
    "row = ['.'] * n\n",
    "for i in range(n):\n",
    "    j = result[i]\n",
    "    row[j] = 'F'\n",
    "    print(*row)\n",
    "    row[j] = '.'\n"
   ]
  },
  {
   "cell_type": "code",
   "execution_count": null,
   "metadata": {},
   "outputs": [],
   "source": []
  },
  {
   "cell_type": "code",
   "execution_count": null,
   "metadata": {},
   "outputs": [],
   "source": []
  }
 ],
 "metadata": {
  "kernelspec": {
   "display_name": "Python 3",
   "language": "python",
   "name": "python3"
  },
  "language_info": {
   "codemirror_mode": {
    "name": "ipython",
    "version": 3
   },
   "file_extension": ".py",
   "mimetype": "text/x-python",
   "name": "python",
   "nbconvert_exporter": "python",
   "pygments_lexer": "ipython3",
   "version": "3.8.5"
  }
 },
 "nbformat": 4,
 "nbformat_minor": 4
}
