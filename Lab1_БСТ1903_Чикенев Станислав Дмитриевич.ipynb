{
 "cells": [
  {
   "cell_type": "markdown",
   "metadata": {},
   "source": [
    "# Лабораторная работа №1\n",
    "## Выполнил студент группы БСТ1903 Чикенев Станислав Дмитриевич\n",
    "### Задания №1\n",
    "1) Создать Jupyter Notebook со следующим наименованием: Lab1_Группа_ФИО\n",
    "\n",
    "2) Создать новую ячейку с помощью кнопки\n",
    "\n",
    "3) В созданной ячейке по указанной ниже форме заполните оглавление файла, заменив наименование группы и вписав свое ФИО\n",
    "\n",
    "4) Форма оглавления файла в ячейке после чего создайте еще одну ячейку и напишите следующий код: \"Hello, World!\"\n",
    "\n",
    "5) С помощью кнопки (Run) запустите выполнение всех ячеек.\n",
    "\n",
    "6) После выполнения у вас должна отформатироваться ячейка с оглавлением и должен выполниться “Hello, World!”"
   ]
  },
  {
   "cell_type": "code",
   "execution_count": 27,
   "metadata": {},
   "outputs": [
    {
     "name": "stdout",
     "output_type": "stream",
     "text": [
      "Hello, World!\n"
     ]
    }
   ],
   "source": [
    "print (\"Hello, World!\")"
   ]
  },
  {
   "cell_type": "markdown",
   "metadata": {},
   "source": [
    "### Задание №2 \n",
    "Написать генератор случайных матриц(многомерных), который принимает\n",
    "опциональные параметры m, n, min_limit, max_limit, где m и n указывают размер\n",
    "матрицы, а min_lim и max_lim - минимальное и максимальное значение для\n",
    "генерируемого числа . По умолчанию при отсутствии параметров принимать следующие\n",
    "значения:\n",
    "\n",
    "m = 50\n",
    "\n",
    "n = 50\n",
    "\n",
    "min_limit = -250\n",
    "\n",
    "max_limit = 1000 + (номер своего варианта)"
   ]
  },
  {
   "cell_type": "code",
   "execution_count": 28,
   "metadata": {},
   "outputs": [],
   "source": [
    "import numpy\n",
    "import time\n",
    "def matrixgenerate():\n",
    "    n=int(input())\n",
    "    m=int(input())\n",
    "    matrixx = numpy.random.random_integers(-250, 1002, size=(n, m))\n",
    "    print(*matrixx)\n",
    "    return matrixx\n",
    "                "
   ]
  },
  {
   "cell_type": "markdown",
   "metadata": {},
   "source": [
    "### Задание №3.1 (Сортировка выбором)\n",
    "Реализовать методы сортировки строк числовой матрицы в соответствии с\n",
    "заданием. Оценить время работы алгоритма сортировки и сравнить его со\n",
    "временем стандартной функции сортировки. Испытания проводить на сгенерированных\n",
    "матрицах."
   ]
  },
  {
   "cell_type": "code",
   "execution_count": 29,
   "metadata": {},
   "outputs": [],
   "source": [
    "def sortviborom(matrixx):\n",
    "    matrline=per(matrixx)\n",
    "    for i in range(0, len(matrline)):\n",
    "        for j in range(i, len(matrline)):\n",
    "            if matrline[i]>matrline[j]:\n",
    "                matrline[i], matrline[j]=matrline[j], matrline[i]     \n",
    "    return vivod(matrixx, matrline)"
   ]
  },
  {
   "cell_type": "markdown",
   "metadata": {},
   "source": [
    "### Задание 3.2 (Сортировка вставки)\n",
    "Реализовать методы сортировки строк числовой матрицы в соответствии с\n",
    "заданием. Оценить время работы алгоритма сортировки и сравнить его со\n",
    "временем стандартной функции сортировки. Испытания проводить на сгенерированных\n",
    "матрицах."
   ]
  },
  {
   "cell_type": "code",
   "execution_count": 30,
   "metadata": {},
   "outputs": [],
   "source": [
    "def sortvstavkami(matrixx):\n",
    "    matrline=per(matrixx)\n",
    "    for i in range(1, len(matrline)):\n",
    "        j=i-1\n",
    "        while (j>=0) and (matrline[j]>matrline[j+1]):\n",
    "            matrline[j], matrline[j+1]=matrline[j+1], matrline[j]\n",
    "            j=j-1\n",
    "    return vivod(matrixx, matrline)                "
   ]
  },
  {
   "cell_type": "markdown",
   "metadata": {},
   "source": [
    "### Задание 3.3 (Сортировка обменом)\n",
    "Реализовать методы сортировки строк числовой матрицы в соответствии с\n",
    "заданием. Оценить время работы алгоритма сортировки и сравнить его со\n",
    "временем стандартной функции сортировки. Испытания проводить на сгенерированных\n",
    "матрицах."
   ]
  },
  {
   "cell_type": "code",
   "execution_count": 31,
   "metadata": {},
   "outputs": [],
   "source": [
    "def sortobmen(matrixx):\n",
    "    matrline=per(matrixx)\n",
    "    l=len(matrline)\n",
    "    while l>1:\n",
    "        for i in range(l-1):\n",
    "            if matrline[i]>matrline[i+1]:\n",
    "                matrline[i], matrline[i+1]=matrline[i+1], matrline[i]\n",
    "        l=l-1\n",
    "        \n",
    "    return vivod(matrixx, matrline)"
   ]
  },
  {
   "cell_type": "markdown",
   "metadata": {},
   "source": [
    "### Задание 3.4 (Сортировка Шелла)\n",
    "Реализовать методы сортировки строк числовой матрицы в соответствии с\n",
    "заданием. Оценить время работы алгоритма сортировки и сравнить его со\n",
    "временем стандартной функции сортировки. Испытания проводить на сгенерированных\n",
    "матрицах."
   ]
  },
  {
   "cell_type": "code",
   "execution_count": 32,
   "metadata": {
    "scrolled": false
   },
   "outputs": [],
   "source": [
    "def shellsort(matrixx):\n",
    "    matrline=per(matrixx)\n",
    "    length=len(matrline)\n",
    "    l=length\n",
    "    while l>0:\n",
    "        for i in range(length-l):\n",
    "            j=i\n",
    "            while j>=0 and matrline[j+l]<matrline[j]:\n",
    "                    matrline[j], matrline[j+l]=matrline[j+l], matrline[j]\n",
    "                    j=j-l\n",
    "        l=int(l/2)\n",
    "    return vivod(matrixx, matrline) "
   ]
  },
  {
   "cell_type": "markdown",
   "metadata": {},
   "source": [
    "### Задание 3.5 (Турнирная сортировка)\n",
    "Реализовать методы сортировки строк числовой матрицы в соответствии с\n",
    "заданием. Оценить время работы алгоритма сортировки и сравнить его со\n",
    "временем стандартной функции сортировки. Испытания проводить на сгенерированных\n",
    "матрицах."
   ]
  },
  {
   "cell_type": "code",
   "execution_count": 33,
   "metadata": {},
   "outputs": [],
   "source": [
    "def tyrsort(matrixx):\n",
    "    matrline=per(matrixx)\n",
    "    def _tyrsort(matrline):\n",
    "        tree = [None] * 2 * (len(matrline) + len(matrline) % 2)\n",
    "        index = len(tree) - len(matrline) - len(matrline) % 2\n",
    "        for i, v in enumerate(matrline):\n",
    "            tree[index + i] = (i, v)\n",
    "        for j in range(len(matrline)):\n",
    "            n = len(matrline)\n",
    "            index = len(tree) - len(matrline) - len(matrline) % 2\n",
    "            while index > -1:\n",
    "                n = (n + 1) // 2\n",
    "                for i in range(n):\n",
    "                    i = max(index + i * 2, 1)\n",
    "                    if tree[i] != None and tree[i + 1] != None:\n",
    "                        if tree[i][1] < tree[i + 1][1]:\n",
    "                            tree[i // 2] = tree[i]\n",
    "                        else:\n",
    "                            tree[i // 2] = tree[i + 1]\n",
    "                    else:\n",
    "                        tree[i // 2] = tree[i] if tree[i] != None else tree[i + 1]\n",
    "                index -= n\n",
    "\n",
    "            index, x = tree[0]\n",
    "            matrline[j] = x\n",
    "            tree[len(tree) - len(matrline) - len(matrline) % 2 + index] = None\n",
    "    _tyrsort(matrline)\n",
    "    return vivod(matrixx, matrline) "
   ]
  },
  {
   "cell_type": "markdown",
   "metadata": {},
   "source": [
    "### Задание 3.6 (Быстрая сортировка)\n",
    "Реализовать методы сортировки строк числовой матрицы в соответствии с\n",
    "заданием. Оценить время работы алгоритма сортировки и сравнить его со\n",
    "временем стандартной функции сортировки. Испытания проводить на сгенерированных\n",
    "матрицах."
   ]
  },
  {
   "cell_type": "code",
   "execution_count": 34,
   "metadata": {},
   "outputs": [],
   "source": [
    "def qs(matrixx):\n",
    "    matrline=per(matrixx)\n",
    "    def quicksort(matrline, first, last):\n",
    "        i=first\n",
    "        j=last\n",
    "        x=matrline[int((first+last)/2)]\n",
    "        while i<=j:\n",
    "            while matrline[i]<x:\n",
    "                i+=1\n",
    "            while matrline[j]>x:\n",
    "                j-=1\n",
    "            if i<=j:\n",
    "                if matrline[i]>matrline[j]:\n",
    "                    matrline[i], matrline[j]=matrline[j], matrline[i]\n",
    "                i+=1\n",
    "                j-=1\n",
    "        if i<last:\n",
    "            quicksort(matrline, i, last)\n",
    "        if first<j:\n",
    "            quicksort(matrline, first, j)\n",
    "    quicksort(matrline, 0, len(matrline)-1)\n",
    "    return vivod(matrixx, matrline)"
   ]
  },
  {
   "cell_type": "markdown",
   "metadata": {},
   "source": [
    "### Задание 3.7 (Пирамидальная сортировка)\n",
    "Реализовать методы сортировки строк числовой матрицы в соответствии с\n",
    "заданием. Оценить время работы алгоритма сортировки и сравнить его со\n",
    "временем стандартной функции сортировки. Испытания проводить на сгенерированных\n",
    "матрицах."
   ]
  },
  {
   "cell_type": "code",
   "execution_count": 35,
   "metadata": {},
   "outputs": [],
   "source": [
    "def heapSort(matrixx):\n",
    "    matrline=per(matrixx)\n",
    "    def downHeap(matrline, k, n):\n",
    "        el = matrline[k]\n",
    "        while 2*k+1 < n:\n",
    "            child = 2*k+1\n",
    "            if child+1 < n and matrline[child] < matrline[child+1]:\n",
    "                child += 1\n",
    "            if el >= matrline[child]:\n",
    "                break\n",
    "            matrline[k] = matrline[child]\n",
    "            k = child\n",
    "        matrline[k] = el\n",
    "  \n",
    "    size = len(matrline)\n",
    "    for i in range(size//2-1,-1,-1):\n",
    "        downHeap(matrline, i, size)\n",
    "    for i in range(size-1,0,-1):\n",
    "        temp = matrline[i]\n",
    "        matrline[i] = matrline[0]\n",
    "        matrline[0] = temp\n",
    "        downHeap(matrline, 0, i)\n",
    "    return vivod(matrixx, matrline)"
   ]
  },
  {
   "cell_type": "markdown",
   "metadata": {},
   "source": [
    "### Функции для реализации программы"
   ]
  },
  {
   "cell_type": "code",
   "execution_count": 36,
   "metadata": {},
   "outputs": [],
   "source": [
    "def per(matrixx):\n",
    "    n=len(matrixx)\n",
    "    m=len(matrixx[0])\n",
    "    matrline=[0]*(n*m)\n",
    "    x=int(0)\n",
    "    for i in range(0, n):\n",
    "        for j in range(0, m):\n",
    "            matrline[x]=matrixx[i][j]\n",
    "            x=x+1\n",
    "    return matrline\n",
    "\n",
    "def vivod(matrixx, matrline):\n",
    "    n=len(matrixx)\n",
    "    m=len(matrixx[0])\n",
    "    x=int(0)\n",
    "    matrix=[[0] * m for i in range(n)]\n",
    "    for i in range(0, n):\n",
    "        for j in range(0, m):\n",
    "            matrix[i][j]=matrline[x]\n",
    "            x=x+1\n",
    "    return matrix "
   ]
  },
  {
   "cell_type": "code",
   "execution_count": 37,
   "metadata": {},
   "outputs": [
    {
     "name": "stdout",
     "output_type": "stream",
     "text": [
      "10\n",
      "5\n",
      "[538 195 144 212 581] [ 132  875  528 -231  370] [945 672 902 344  39] [556 586 212 286 -31] [-151  292  989  188    4] [ 486   78 -120 -227 -214] [-119  789  781  148  403] [798 -97 414 426  53] [-220  427  220 1000  230] [715 863 446 926 946]\n",
      "\n",
      "Время работы стандартной сортировки 0.00023120000003018504 \n",
      "Результат сортировки\n",
      " [-231, -227, -220, -214, -151] [-120, -119, -97, -31, 4] [39, 53, 78, 132, 144] [148, 188, 195, 212, 212] [220, 230, 286, 292, 344] [370, 403, 414, 426, 427] [446, 486, 528, 538, 556] [581, 586, 672, 715, 781] [789, 798, 863, 875, 902] [926, 945, 946, 989, 1000]\n",
      "\n",
      "Время работы сортировки выбором 0.00043689999995422113 \n",
      "Результат сортировки\n",
      " [-231, -227, -220, -214, -151] [-120, -119, -97, -31, 4] [39, 53, 78, 132, 144] [148, 188, 195, 212, 212] [220, 230, 286, 292, 344] [370, 403, 414, 426, 427] [446, 486, 528, 538, 556] [581, 586, 672, 715, 781] [789, 798, 863, 875, 902] [926, 945, 946, 989, 1000]\n",
      "\n",
      "Время работы сортировки вставкой 0.00045399999999062857 \n",
      "Результат сортировки\n",
      " [-231, -227, -220, -214, -151] [-120, -119, -97, -31, 4] [39, 53, 78, 132, 144] [148, 188, 195, 212, 212] [220, 230, 286, 292, 344] [370, 403, 414, 426, 427] [446, 486, 528, 538, 556] [581, 586, 672, 715, 781] [789, 798, 863, 875, 902] [926, 945, 946, 989, 1000]\n",
      "\n",
      "Время работы сортировки обменом 0.0005333999999947991 \n",
      "Результат сортировки\n",
      " [-231, -227, -220, -214, -151] [-120, -119, -97, -31, 4] [39, 53, 78, 132, 144] [148, 188, 195, 212, 212] [220, 230, 286, 292, 344] [370, 403, 414, 426, 427] [446, 486, 528, 538, 556] [581, 586, 672, 715, 781] [789, 798, 863, 875, 902] [926, 945, 946, 989, 1000]\n",
      "\n",
      "Время работы сортировки Шелла 0.0002653999999893131 \n",
      "Результат сортировки\n",
      " [-231, -227, -220, -214, -151] [-120, -119, -97, -31, 4] [39, 53, 78, 132, 144] [148, 188, 195, 212, 212] [220, 230, 286, 292, 344] [370, 403, 414, 426, 427] [446, 486, 528, 538, 556] [581, 586, 672, 715, 781] [789, 798, 863, 875, 902] [926, 945, 946, 989, 1000]\n",
      "\n",
      "Время работы турнирной сортировки 0.0033742000000529515 \n",
      "Результат сортировки\n",
      " [132, -231, -231, -227, -227] [-220, -220, -214, -214, -151] [-151, -120, -120, -119, -119] [-97, -97, -31, -31, 4] [4, 39, 39, 53, 53] [78, 78, 144, 148, 148] [188, 188, 195, 195, 212] [212, 212, 220, 220, 230] [230, 286, 286, 292, 292] [344, 344, 370, 370, 403]\n",
      "\n",
      "Время работы быстрой сортировки 0.00030459999999266074 \n",
      "Результат сортировки\n",
      " [-231, -227, -220, -214, -151] [-120, -119, -97, -31, 4] [39, 53, 78, 132, 144] [148, 188, 195, 212, 212] [220, 230, 286, 292, 344] [370, 403, 414, 426, 427] [446, 486, 528, 538, 556] [581, 586, 672, 715, 781] [789, 798, 863, 875, 902] [926, 945, 946, 989, 1000]\n",
      "\n",
      "Время работы пирамидальной сортировки 0.0003790000000094551 \n",
      "Результат сортировки\n",
      " [-231, -227, -220, -214, -151] [-120, -119, -97, -31, 4] [39, 53, 78, 132, 144] [148, 188, 195, 212, 212] [220, 230, 286, 292, 344] [370, 403, 414, 426, 427] [446, 486, 528, 538, 556] [581, 586, 672, 715, 781] [789, 798, 863, 875, 902] [926, 945, 946, 989, 1000]\n"
     ]
    },
    {
     "name": "stderr",
     "output_type": "stream",
     "text": [
      "<ipython-input-28-b0e23f9e57a0>:6: DeprecationWarning: This function is deprecated. Please call randint(-250, 1002 + 1) instead\n",
      "  matrixx = numpy.random.random_integers(-250, 1002, size=(n, m))\n"
     ]
    }
   ],
   "source": [
    "matrixx=matrixgenerate()\n",
    "\n",
    "#Стандартная сортировка\n",
    "timerStart = time.perf_counter()\n",
    "matrline=per(matrixx)\n",
    "matrline=sorted(matrline)\n",
    "matrixstandart=vivod(matrixx, matrline)\n",
    "timerEnd = time.perf_counter()\n",
    "timer1 = timerEnd - timerStart\n",
    "#\n",
    "\n",
    "#Сортировка выбором\n",
    "timerStart = time.perf_counter()\n",
    "matrix=sortviborom(matrixx)\n",
    "timerEnd = time.perf_counter()\n",
    "timer2 = timerEnd - timerStart\n",
    "#\n",
    "\n",
    "#Сортировка вставками\n",
    "timerStart = time.perf_counter()\n",
    "matrix1=sortvstavkami(matrixx)\n",
    "timerEnd = time.perf_counter()\n",
    "timer3 = timerEnd - timerStart\n",
    "#\n",
    "\n",
    "#Сортировка обменом\n",
    "timerStart = time.perf_counter()\n",
    "matrix2=sortobmen(matrixx)\n",
    "timerEnd = time.perf_counter()\n",
    "timer4 = timerEnd - timerStart\n",
    "#\n",
    "\n",
    "#Сортировка Шелла\n",
    "timerStart = time.perf_counter()\n",
    "matrix3=shellsort(matrixx)\n",
    "timerEnd = time.perf_counter()\n",
    "timer5 = timerEnd - timerStart\n",
    "#\n",
    "\n",
    "#Турнирная сортировка\n",
    "timerStart = time.perf_counter()\n",
    "matrix4=tyrsort(matrixx)\n",
    "timerEnd = time.perf_counter()\n",
    "timer6 = timerEnd - timerStart\n",
    "#\n",
    "\n",
    "#Быстрая сортировка\n",
    "timerStart = time.perf_counter()\n",
    "matrix5=qs(matrixx)\n",
    "timerEnd = time.perf_counter()\n",
    "timer7 = timerEnd - timerStart\n",
    "#\n",
    "\n",
    "#Пирамидальная сортировка\n",
    "timerStart = time.perf_counter()\n",
    "matrix6=heapSort(matrixx)\n",
    "timerEnd = time.perf_counter()\n",
    "timer8 = timerEnd - timerStart\n",
    "#\n",
    "print(\"\\nВремя работы стандартной сортировки\", timer1,\"\\nРезультат сортировки\\n\", *matrixstandart)\n",
    "print(\"\\nВремя работы сортировки выбором\", timer2,\"\\nРезультат сортировки\\n\", *matrix)\n",
    "print(\"\\nВремя работы сортировки вставкой\", timer3,\"\\nРезультат сортировки\\n\", *matrix1)\n",
    "print(\"\\nВремя работы сортировки обменом\", timer4,\"\\nРезультат сортировки\\n\", *matrix2)\n",
    "print(\"\\nВремя работы сортировки Шелла\", timer5,\"\\nРезультат сортировки\\n\", *matrix3)\n",
    "print(\"\\nВремя работы турнирной сортировки\", timer6,\"\\nРезультат сортировки\\n\", *matrix4)\n",
    "print(\"\\nВремя работы быстрой сортировки\", timer7,\"\\nРезультат сортировки\\n\", *matrix5)\n",
    "print(\"\\nВремя работы пирамидальной сортировки\", timer8,\"\\nРезультат сортировки\\n\", *matrix6)"
   ]
  },
  {
   "cell_type": "markdown",
   "metadata": {},
   "source": [
    "### Вывод:"
   ]
  },
  {
   "cell_type": "markdown",
   "metadata": {},
   "source": [
    "В результате проделанной лабораторной работы мы реализовали генерацию случайной матрицы и изучили методы сортировок матрицы."
   ]
  }
 ],
 "metadata": {
  "kernelspec": {
   "display_name": "Python 3",
   "language": "python",
   "name": "python3"
  },
  "language_info": {
   "codemirror_mode": {
    "name": "ipython",
    "version": 3
   },
   "file_extension": ".py",
   "mimetype": "text/x-python",
   "name": "python",
   "nbconvert_exporter": "python",
   "pygments_lexer": "ipython3",
   "version": "3.8.5"
  }
 },
 "nbformat": 4,
 "nbformat_minor": 4
}
