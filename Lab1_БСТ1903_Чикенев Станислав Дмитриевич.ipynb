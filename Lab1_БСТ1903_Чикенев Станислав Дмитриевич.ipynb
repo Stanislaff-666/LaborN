{
 "cells": [
  {
   "cell_type": "markdown",
   "metadata": {},
   "source": [
    "# Лабораторная работа №1\n",
    "## Выполнил студент группы БСТ1903 Чикенев Станислав Дмитриевич\n",
    "### Задания №1\n",
    "1) Создать Jupyter Notebook со следующим наименованием: Lab1_Группа_ФИО\n",
    "\n",
    "2) Создать новую ячейку с помощью кнопки\n",
    "\n",
    "3) В созданной ячейке по указанной ниже форме заполните оглавление файла, заменив наименование группы и вписав свое ФИО\n",
    "\n",
    "4) Форма оглавления файла в ячейке после чего создайте еще одну ячейку и напишите следующий код: \"Hello, World!\"\n",
    "\n",
    "5) С помощью кнопки (Run) запустите выполнение всех ячеек.\n",
    "\n",
    "6) После выполнения у вас должна отформатироваться ячейка с оглавлением и должен выполниться “Hello, World!”"
   ]
  },
  {
   "cell_type": "code",
   "execution_count": 36,
   "metadata": {},
   "outputs": [
    {
     "name": "stdout",
     "output_type": "stream",
     "text": [
      "Hello, World!\n"
     ]
    }
   ],
   "source": [
    "print (\"Hello, World!\")"
   ]
  },
  {
   "cell_type": "markdown",
   "metadata": {},
   "source": [
    "### Задание №2 \n",
    "Написать генератор случайных матриц(многомерных), который принимает\n",
    "опциональные параметры m, n, min_limit, max_limit, где m и n указывают размер\n",
    "матрицы, а min_lim и max_lim - минимальное и максимальное значение для\n",
    "генерируемого числа . По умолчанию при отсутствии параметров принимать следующие\n",
    "значения:\n",
    "\n",
    "m = 50\n",
    "\n",
    "n = 50\n",
    "\n",
    "min_limit = -250\n",
    "\n",
    "max_limit = 1000 + (номер своего варианта)"
   ]
  },
  {
   "cell_type": "code",
   "execution_count": 37,
   "metadata": {},
   "outputs": [],
   "source": [
    "import numpy\n",
    "import time\n",
    "def matrixgenerate():\n",
    "    m = int(input())\n",
    "    n = int(input())\n",
    "    min_limit = -250\n",
    "    max_limit = 1021\n",
    "    mtr=numpy.random.random_integers(min_limit,max_limit,size=(m,n))\n",
    "    print (\"\\nИсходный Массив\\n\", mtr)\n",
    "    return mtr\n",
    "    \n",
    "\n",
    "                "
   ]
  },
  {
   "cell_type": "markdown",
   "metadata": {},
   "source": [
    "### Задание №3.1 (Сортировка выбором)\n",
    "Реализовать методы сортировки строк числовой матрицы в соответствии с\n",
    "заданием. Оценить время работы алгоритма сортировки и сравнить его со\n",
    "временем стандартной функции сортировки. Испытания проводить на сгенерированных\n",
    "матрицах."
   ]
  },
  {
   "cell_type": "code",
   "execution_count": 38,
   "metadata": {},
   "outputs": [],
   "source": [
    "def viborsrt(mtr):\n",
    "    massive=per(mtr)\n",
    "    for i in range(len(massive)):\n",
    "        minn=i\n",
    "        print(minn)\n",
    "        for j in range(i,len(massive)):\n",
    "            if massive[minn]>massive[j]:\n",
    "                minn=j\n",
    "        massive[minn], massive[i]=massive[i], massive[minn]\n",
    "    return rezult(mtr,massive)"
   ]
  },
  {
   "cell_type": "markdown",
   "metadata": {},
   "source": [
    "### Задание 3.2 (Сортировка вставки)\n",
    "Реализовать методы сортировки строк числовой матрицы в соответствии с\n",
    "заданием. Оценить время работы алгоритма сортировки и сравнить его со\n",
    "временем стандартной функции сортировки. Испытания проводить на сгенерированных\n",
    "матрицах."
   ]
  },
  {
   "cell_type": "code",
   "execution_count": 39,
   "metadata": {},
   "outputs": [],
   "source": [
    "def vstavka(mtr):\n",
    "    massive=per(mtr)\n",
    "    for i in range (1, len(massive)):\n",
    "        j=i-1\n",
    "        while (j >= 0) and (massive[j]>massive[j+1]):\n",
    "            massive[j], massive[j+1]=massive[j+1], massive[j]\n",
    "            j=j-1\n",
    "    return rezult (mtr, massive)                    "
   ]
  },
  {
   "cell_type": "markdown",
   "metadata": {},
   "source": [
    "### Задание 3.3 (Сортировка обменом)\n",
    "Реализовать методы сортировки строк числовой матрицы в соответствии с\n",
    "заданием. Оценить время работы алгоритма сортировки и сравнить его со\n",
    "временем стандартной функции сортировки. Испытания проводить на сгенерированных\n",
    "матрицах."
   ]
  },
  {
   "cell_type": "code",
   "execution_count": 40,
   "metadata": {},
   "outputs": [],
   "source": [
    "def obmsrt(mtr):\n",
    "    massive=per(mtr)\n",
    "    k=len(mtr)\n",
    "    while k>1:\n",
    "        for i in range(k-1):\n",
    "            if massive[i]>massive[i+1]:\n",
    "                massive[i], massive[i+1]=massive[i+1], massive[i]\n",
    "            k=k-1\n",
    "    return rezult (mtr, massive)    "
   ]
  },
  {
   "cell_type": "markdown",
   "metadata": {},
   "source": [
    "### Задание 3.4 (Сортировка Шелла)\n",
    "Реализовать методы сортировки строк числовой матрицы в соответствии с\n",
    "заданием. Оценить время работы алгоритма сортировки и сравнить его со\n",
    "временем стандартной функции сортировки. Испытания проводить на сгенерированных\n",
    "матрицах."
   ]
  },
  {
   "cell_type": "code",
   "execution_count": 41,
   "metadata": {
    "scrolled": false
   },
   "outputs": [],
   "source": [
    "def shella (mtr):\n",
    "    massive=per(mtr)\n",
    "    length=len(massive)\n",
    "    k=length\n",
    "    while k>0:\n",
    "        for i in range(length-k):\n",
    "            j=i\n",
    "            while j>=0 and massive[j+k]<massive[j]:\n",
    "                    massive[j], massive[j+k]=massive[j+k],massive[j]\n",
    "                    j=j-k\n",
    "        k=int(k/2)\n",
    "    return rezult(mtr, massive)"
   ]
  },
  {
   "cell_type": "markdown",
   "metadata": {},
   "source": [
    "### Задание 3.5 (Турнирная сортировка)\n",
    "Реализовать методы сортировки строк числовой матрицы в соответствии с\n",
    "заданием. Оценить время работы алгоритма сортировки и сравнить его со\n",
    "временем стандартной функции сортировки. Испытания проводить на сгенерированных\n",
    "матрицах."
   ]
  },
  {
   "cell_type": "code",
   "execution_count": 42,
   "metadata": {},
   "outputs": [],
   "source": [
    "def turnirsrt(mtr):\n",
    "    massivee=per(mtr)\n",
    "    def turnirrsort01(massive):\n",
    "        tree = [None] * 2 * (len(massive) + len(massive) % 2)\n",
    "        index = len(tree) - len(massive) - len(massive) % 2\n",
    "        for i, v in enumerate(massive):\n",
    "            tree[index + i] = (i, v)\n",
    "        for j in range(len(massive)):\n",
    "            n = len(massive)\n",
    "            index = len(tree) - len(massive) - len(massive) % 2\n",
    "            while index > -1:\n",
    "                n = (n + 1) // 2\n",
    "                for i in range(n):\n",
    "                    i = max(index + i * 2, 1)\n",
    "                    if tree[i] != None and tree[i + 1] != None:\n",
    "                        if tree[i][1] < tree[i + 1][1]:\n",
    "                            tree[i // 2] = tree[i]\n",
    "                        else:\n",
    "                            tree[i // 2] = tree[i + 1]\n",
    "                    else:\n",
    "                        tree[i // 2] = tree[i] if tree[i] != None else tree[i + 1]\n",
    "                index -= n\n",
    "\n",
    "            index, x = tree[0]\n",
    "            massive[j] = x\n",
    "            tree[len(tree) - len(massive) - len(massive) % 2 + index] = None\n",
    "    turnirrsort01(massive)\n",
    "    return rezult(mtr, massive) "
   ]
  },
  {
   "cell_type": "markdown",
   "metadata": {},
   "source": [
    "### Задание 3.6 (Быстрая сортировка)\n",
    "Реализовать методы сортировки строк числовой матрицы в соответствии с\n",
    "заданием. Оценить время работы алгоритма сортировки и сравнить его со\n",
    "временем стандартной функции сортировки. Испытания проводить на сгенерированных\n",
    "матрицах."
   ]
  },
  {
   "cell_type": "code",
   "execution_count": 47,
   "metadata": {},
   "outputs": [],
   "source": [
    "def fast1(mtr):\n",
    "    massive=per(mtr)\n",
    "    def forsaj(massive, first, last):\n",
    "        i=first\n",
    "        j=last\n",
    "        x=massive[int((first+last)/2)]\n",
    "        while i<=j:\n",
    "            while matrline[i]<x:\n",
    "                i+=1\n",
    "            while matrline[j]>x:\n",
    "                j-=1\n",
    "            if i<=j:\n",
    "                if massive[i]>massive[j]:\n",
    "                    massive[i], massive[j]=massive[j],massive[i]\n",
    "                i+=1\n",
    "                j-=1\n",
    "        if i<last:\n",
    "            forsaj(massive, i, last)\n",
    "        if first<j:\n",
    "            forsaj(massive, first, j)\n",
    "    forsaj(massive, 0, len(massive)-1)\n",
    "    return rezult(mtr, massive)"
   ]
  },
  {
   "cell_type": "markdown",
   "metadata": {},
   "source": [
    "### Задание 3.7 (Пирамидальная сортировка)\n",
    "Реализовать методы сортировки строк числовой матрицы в соответствии с\n",
    "заданием. Оценить время работы алгоритма сортировки и сравнить его со\n",
    "временем стандартной функции сортировки. Испытания проводить на сгенерированных\n",
    "матрицах."
   ]
  },
  {
   "cell_type": "code",
   "execution_count": 48,
   "metadata": {},
   "outputs": [],
   "source": [
    "def piramid(mtr):\n",
    "    massive=per(mtr)\n",
    "    def qwerty(massive, k, n):\n",
    "        el =massive[k]\n",
    "        while 2*k+1 < n:\n",
    "            child = 2*k+1\n",
    "            if child+1 < n and massive[child] < massive[child+1]:\n",
    "                child += 1\n",
    "            if el >= massive[child]:\n",
    "                break\n",
    "            massive[k] = massive[child]\n",
    "            k = child\n",
    "        massive[k] = el\n",
    "  \n",
    "    size = len(massive)\n",
    "    for i in range(size//2-1,-1,-1):\n",
    "        qwerty(massive, i, size)\n",
    "    for i in range(size-1,0,-1):\n",
    "        temp = massive[i]\n",
    "        massive[i] = massive[0]\n",
    "        massive[0] = temp\n",
    "        qwerty(massive, 0, i)\n",
    "    return rezult(mtr, massive)"
   ]
  },
  {
   "cell_type": "code",
   "execution_count": 49,
   "metadata": {},
   "outputs": [],
   "source": [
    "def per(mtr):\n",
    "    m=len(mtr)\n",
    "    n=len(mtr[0])\n",
    "    massive=[0]*(m*n)\n",
    "    y=int(0)\n",
    "    for i in range(0, m):\n",
    "        for j in range(0, n):\n",
    "            massive[y]=mtr[i][j]\n",
    "            y=y+1\n",
    "    return massive\n",
    "\n",
    "def rezult(mtr, massive):\n",
    "    m=len(mtr)\n",
    "    n=len(mtr[0])\n",
    "    y=int(0)\n",
    "    matrix=[[0] *n for i in range(m)]\n",
    "    for i in range(0, m):\n",
    "        for j in range(0, n):\n",
    "            mtr[i][j]=massive[y]\n",
    "            y=y+1\n",
    "    return mtr"
   ]
  },
  {
   "cell_type": "code",
   "execution_count": 50,
   "metadata": {},
   "outputs": [
    {
     "name": "stdout",
     "output_type": "stream",
     "text": [
      "4\n",
      "4\n",
      "\n",
      "Исходный Массив\n",
      " [[  85  818  -47  187]\n",
      " [ -59  906  570  552]\n",
      " [-117  947 -178   94]\n",
      " [ -19  425  628  934]]\n",
      "0\n",
      "1\n",
      "2\n",
      "3\n",
      "4\n",
      "5\n",
      "6\n",
      "7\n",
      "8\n",
      "9\n",
      "10\n",
      "11\n",
      "12\n",
      "13\n",
      "14\n",
      "15\n"
     ]
    },
    {
     "name": "stderr",
     "output_type": "stream",
     "text": [
      "<ipython-input-37-2e85a7a97546>:8: DeprecationWarning: This function is deprecated. Please call randint(-250, 1021 + 1) instead\n",
      "  mtr=numpy.random.random_integers(min_limit,max_limit,size=(m,n))\n"
     ]
    },
    {
     "ename": "NameError",
     "evalue": "name 'matrline' is not defined",
     "output_type": "error",
     "traceback": [
      "\u001b[1;31m---------------------------------------------------------------------------\u001b[0m",
      "\u001b[1;31mNameError\u001b[0m                                 Traceback (most recent call last)",
      "\u001b[1;32m<ipython-input-50-91bfaf2a1111>\u001b[0m in \u001b[0;36m<module>\u001b[1;34m\u001b[0m\n\u001b[0;32m     47\u001b[0m \u001b[1;31m#Быстрая сортировка\u001b[0m\u001b[1;33m\u001b[0m\u001b[1;33m\u001b[0m\u001b[1;33m\u001b[0m\u001b[0m\n\u001b[0;32m     48\u001b[0m \u001b[0mtimerStart\u001b[0m \u001b[1;33m=\u001b[0m \u001b[0mtime\u001b[0m\u001b[1;33m.\u001b[0m\u001b[0mperf_counter\u001b[0m\u001b[1;33m(\u001b[0m\u001b[1;33m)\u001b[0m\u001b[1;33m\u001b[0m\u001b[1;33m\u001b[0m\u001b[0m\n\u001b[1;32m---> 49\u001b[1;33m \u001b[0mmt6\u001b[0m\u001b[1;33m=\u001b[0m\u001b[0mfast1\u001b[0m\u001b[1;33m(\u001b[0m\u001b[0mmtr\u001b[0m\u001b[1;33m)\u001b[0m\u001b[1;33m\u001b[0m\u001b[1;33m\u001b[0m\u001b[0m\n\u001b[0m\u001b[0;32m     50\u001b[0m \u001b[0mtimerEnd\u001b[0m \u001b[1;33m=\u001b[0m \u001b[0mtime\u001b[0m\u001b[1;33m.\u001b[0m\u001b[0mperf_counter\u001b[0m\u001b[1;33m(\u001b[0m\u001b[1;33m)\u001b[0m\u001b[1;33m\u001b[0m\u001b[1;33m\u001b[0m\u001b[0m\n\u001b[0;32m     51\u001b[0m \u001b[0mtimer7\u001b[0m \u001b[1;33m=\u001b[0m \u001b[0mtimerEnd\u001b[0m \u001b[1;33m-\u001b[0m \u001b[0mtimerStart\u001b[0m\u001b[1;33m\u001b[0m\u001b[1;33m\u001b[0m\u001b[0m\n",
      "\u001b[1;32m<ipython-input-47-bd6744f2f466>\u001b[0m in \u001b[0;36mfast1\u001b[1;34m(mtr)\u001b[0m\n\u001b[0;32m     19\u001b[0m         \u001b[1;32mif\u001b[0m \u001b[0mfirst\u001b[0m\u001b[1;33m<\u001b[0m\u001b[0mj\u001b[0m\u001b[1;33m:\u001b[0m\u001b[1;33m\u001b[0m\u001b[1;33m\u001b[0m\u001b[0m\n\u001b[0;32m     20\u001b[0m             \u001b[0mforsaj\u001b[0m\u001b[1;33m(\u001b[0m\u001b[0mmassive\u001b[0m\u001b[1;33m,\u001b[0m \u001b[0mfirst\u001b[0m\u001b[1;33m,\u001b[0m \u001b[0mj\u001b[0m\u001b[1;33m)\u001b[0m\u001b[1;33m\u001b[0m\u001b[1;33m\u001b[0m\u001b[0m\n\u001b[1;32m---> 21\u001b[1;33m     \u001b[0mforsaj\u001b[0m\u001b[1;33m(\u001b[0m\u001b[0mmassive\u001b[0m\u001b[1;33m,\u001b[0m \u001b[1;36m0\u001b[0m\u001b[1;33m,\u001b[0m \u001b[0mlen\u001b[0m\u001b[1;33m(\u001b[0m\u001b[0mmassive\u001b[0m\u001b[1;33m)\u001b[0m\u001b[1;33m-\u001b[0m\u001b[1;36m1\u001b[0m\u001b[1;33m)\u001b[0m\u001b[1;33m\u001b[0m\u001b[1;33m\u001b[0m\u001b[0m\n\u001b[0m\u001b[0;32m     22\u001b[0m     \u001b[1;32mreturn\u001b[0m \u001b[0mrezult\u001b[0m\u001b[1;33m(\u001b[0m\u001b[0mmtr\u001b[0m\u001b[1;33m,\u001b[0m \u001b[0mmassive\u001b[0m\u001b[1;33m)\u001b[0m\u001b[1;33m\u001b[0m\u001b[1;33m\u001b[0m\u001b[0m\n",
      "\u001b[1;32m<ipython-input-47-bd6744f2f466>\u001b[0m in \u001b[0;36mforsaj\u001b[1;34m(massive, first, last)\u001b[0m\n\u001b[0;32m      6\u001b[0m         \u001b[0mx\u001b[0m\u001b[1;33m=\u001b[0m\u001b[0mmassive\u001b[0m\u001b[1;33m[\u001b[0m\u001b[0mint\u001b[0m\u001b[1;33m(\u001b[0m\u001b[1;33m(\u001b[0m\u001b[0mfirst\u001b[0m\u001b[1;33m+\u001b[0m\u001b[0mlast\u001b[0m\u001b[1;33m)\u001b[0m\u001b[1;33m/\u001b[0m\u001b[1;36m2\u001b[0m\u001b[1;33m)\u001b[0m\u001b[1;33m]\u001b[0m\u001b[1;33m\u001b[0m\u001b[1;33m\u001b[0m\u001b[0m\n\u001b[0;32m      7\u001b[0m         \u001b[1;32mwhile\u001b[0m \u001b[0mi\u001b[0m\u001b[1;33m<=\u001b[0m\u001b[0mj\u001b[0m\u001b[1;33m:\u001b[0m\u001b[1;33m\u001b[0m\u001b[1;33m\u001b[0m\u001b[0m\n\u001b[1;32m----> 8\u001b[1;33m             \u001b[1;32mwhile\u001b[0m \u001b[0mmatrline\u001b[0m\u001b[1;33m[\u001b[0m\u001b[0mi\u001b[0m\u001b[1;33m]\u001b[0m\u001b[1;33m<\u001b[0m\u001b[0mx\u001b[0m\u001b[1;33m:\u001b[0m\u001b[1;33m\u001b[0m\u001b[1;33m\u001b[0m\u001b[0m\n\u001b[0m\u001b[0;32m      9\u001b[0m                 \u001b[0mi\u001b[0m\u001b[1;33m+=\u001b[0m\u001b[1;36m1\u001b[0m\u001b[1;33m\u001b[0m\u001b[1;33m\u001b[0m\u001b[0m\n\u001b[0;32m     10\u001b[0m             \u001b[1;32mwhile\u001b[0m \u001b[0mmatrline\u001b[0m\u001b[1;33m[\u001b[0m\u001b[0mj\u001b[0m\u001b[1;33m]\u001b[0m\u001b[1;33m>\u001b[0m\u001b[0mx\u001b[0m\u001b[1;33m:\u001b[0m\u001b[1;33m\u001b[0m\u001b[1;33m\u001b[0m\u001b[0m\n",
      "\u001b[1;31mNameError\u001b[0m: name 'matrline' is not defined"
     ]
    }
   ],
   "source": [
    "mtr=matrixgenerate()\n",
    "\n",
    "#Стандартная сортировка\n",
    "timerStart = time.perf_counter()\n",
    "massive=per(mtr)\n",
    "massive=sorted(massive)\n",
    "matrixstandart=rezult(mtr, massive)\n",
    "timerEnd = time.perf_counter()\n",
    "timer1 = timerEnd - timerStart\n",
    "#\n",
    "\n",
    "#Сортировка выбором\n",
    "timerStart = time.perf_counter()\n",
    "mt1=viborsrt(mtr)\n",
    "timerEnd = time.perf_counter()\n",
    "timer2 = timerEnd - timerStart\n",
    "#\n",
    "\n",
    "#Сортировка вставками\n",
    "timerStart = time.perf_counter()\n",
    "mt2=vstavka(mtr)\n",
    "timerEnd = time.perf_counter()\n",
    "timer3 = timerEnd - timerStart\n",
    "#\n",
    "\n",
    "#Сортировка обменом\n",
    "timerStart = time.perf_counter()\n",
    "mt3=obmsrt(mtr)\n",
    "timerEnd = time.perf_counter()\n",
    "timer4 = timerEnd - timerStart\n",
    "#\n",
    "\n",
    "#Сортировка Шелла\n",
    "timerStart = time.perf_counter()\n",
    "mt4=shella(mtr)\n",
    "timerEnd = time.perf_counter()\n",
    "timer5 = timerEnd - timerStart\n",
    "#\n",
    "\n",
    "#Турнирная сортировка\n",
    "timerStart = time.perf_counter()\n",
    "mt5=turnirsrt(mtr)\n",
    "timerEnd = time.perf_counter()\n",
    "timer6 = timerEnd - timerStart\n",
    "#\n",
    "\n",
    "#Быстрая сортировка\n",
    "timerStart = time.perf_counter()\n",
    "mt6=fast1(mtr)\n",
    "timerEnd = time.perf_counter()\n",
    "timer7 = timerEnd - timerStart\n",
    "#\n",
    "\n",
    "#Пирамидальная сортировка\n",
    "timerStart = time.perf_counter()\n",
    "mt7=piramid(mtr)\n",
    "timerEnd = time.perf_counter()\n",
    "timer8 = timerEnd - timerStart\n",
    "#\n",
    "\n",
    "\n",
    "print(\"\\nВремя работы стандартной сортировки\", timer1,\"\\nРезультат сортировки\\n\", *matrixstandart)\n",
    "print(\"\\nВремя работы сортировки выбором\", timer2,\"\\nРезультат сортировки\\n\", *mt1)\n",
    "print(\"\\nВремя работы сортировки вставкой\", timer3,\"\\nРезультат сортировки\\n\", *mt2)\n",
    "print(\"\\nВремя работы сортировки обменом\", timer4,\"\\nРезультат сортировки\\n\", *mt3)\n",
    "print(\"\\nВремя работы сортировки Шелла\", timer5,\"\\nРезультат сортировки\\n\", *mt4)\n",
    "print(\"\\nВремя работы турнирной сортировки\", timer6,\"\\nРезультат сортировки\\n\", *mt5)\n",
    "print(\"\\nВремя работы быстрой сортировки\", timer7,\"\\nРезультат сортировки\\n\", *mt6)\n",
    "print(\"\\nВремя работы пирамидальной сортировки\", timer8,\"\\nРезультат сортировки\\n\", *mt7)"
   ]
  },
  {
   "cell_type": "code",
   "execution_count": null,
   "metadata": {},
   "outputs": [],
   "source": []
  },
  {
   "cell_type": "code",
   "execution_count": null,
   "metadata": {},
   "outputs": [],
   "source": []
  },
  {
   "cell_type": "code",
   "execution_count": null,
   "metadata": {},
   "outputs": [],
   "source": []
  },
  {
   "cell_type": "code",
   "execution_count": null,
   "metadata": {},
   "outputs": [],
   "source": []
  },
  {
   "cell_type": "code",
   "execution_count": 21,
   "metadata": {},
   "outputs": [
    {
     "name": "stdout",
     "output_type": "stream",
     "text": [
      "[9, 4, 3, 2, 1, 5, 7, 6, 8]\n",
      "[1, 4, 3, 2, 9, 5, 7, 6, 8]\n",
      "[1, 4, 3, 2, 9, 5, 7, 6, 8]\n",
      "[1, 4, 3, 2, 8, 5, 7, 6, 9]\n",
      "[1, 4, 3, 2, 8, 5, 7, 6, 9]\n",
      "[1, 4, 3, 2, 6, 5, 7, 8, 9]\n",
      "[1, 4, 3, 2, 6, 5, 7, 8, 9]\n",
      "[1, 2, 3, 4, 6, 5, 7, 8, 9]\n",
      "[1, 2, 3, 4, 6, 5, 7, 8, 9]\n",
      "[1, 2, 3, 4, 5, 6, 7, 8, 9]\n",
      "[1, 2, 3, 4, 5, 6, 7, 8, 9]\n",
      "[1, 2, 3, 4, 5, 6, 7, 8, 9]\n"
     ]
    }
   ],
   "source": [
    " def forsaj(massive, first, last):\n",
    "        i=first\n",
    "        j=last\n",
    "        x=massive[int((first+last)/2)]\n",
    "        while i<=j:\n",
    "            print(massive)\n",
    "            while massive[i]<x:\n",
    "                i+=1\n",
    "            while massive[j]>x:\n",
    "                j-=1\n",
    "            if i<=j:\n",
    "                if massive[i]>massive[j]:\n",
    "                    massive[i], massive[j]=massive[j],massive[i]\n",
    "                i+=1\n",
    "                j-=1\n",
    "        if i<last:\n",
    "            forsaj(massive, i, last)\n",
    "        if first<j:\n",
    "            forsaj(massive, first, j)\n",
    "        \n",
    "\n",
    "mas=[9, 4, 3, 2, 1, 5, 7, 6, 8]\n",
    "forsaj(mas, 0, len(mas)-1)\n",
    "print(mas)"
   ]
  },
  {
   "cell_type": "code",
   "execution_count": null,
   "metadata": {},
   "outputs": [],
   "source": []
  }
 ],
 "metadata": {
  "kernelspec": {
   "display_name": "Python 3",
   "language": "python",
   "name": "python3"
  },
  "language_info": {
   "codemirror_mode": {
    "name": "ipython",
    "version": 3
   },
   "file_extension": ".py",
   "mimetype": "text/x-python",
   "name": "python",
   "nbconvert_exporter": "python",
   "pygments_lexer": "ipython3",
   "version": "3.8.5"
  }
 },
 "nbformat": 4,
 "nbformat_minor": 4
}
